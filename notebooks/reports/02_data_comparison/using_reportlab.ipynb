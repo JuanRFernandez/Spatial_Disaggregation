{
 "cells": [
  {
   "cell_type": "code",
   "execution_count": null,
   "id": "876fb7a9",
   "metadata": {},
   "outputs": [],
   "source": [
    "import os\n",
    "from zoomin.database.db_access import get_var_names, get_input_var_values_full\n",
    "from zoomin.data.comparison import compare_data\n",
    "\n",
    "from zoomin.report import reportlab"
   ]
  },
  {
   "cell_type": "code",
   "execution_count": null,
   "id": "399b5799",
   "metadata": {},
   "outputs": [],
   "source": [
    "cwd = os.getcwd()"
   ]
  },
  {
   "cell_type": "code",
   "execution_count": null,
   "id": "ce646b65",
   "metadata": {},
   "outputs": [],
   "source": [
    "var_names = get_var_names()"
   ]
  },
  {
   "cell_type": "code",
   "execution_count": null,
   "id": "d0cef555",
   "metadata": {},
   "outputs": [],
   "source": [
    "var_names"
   ]
  },
  {
   "cell_type": "code",
   "execution_count": null,
   "id": "f1f50e69",
   "metadata": {},
   "outputs": [],
   "source": [
    "comparison_report = reportlab.Report(\n",
    "            report_title=\"Comparison of Data Sources\",\n",
    "            file_path=os.path.join(cwd, \"..\", \"..\", \"reports\", \"02_data_comprison\", \"reportlab_data_comparison.pdf\"),\n",
    "        )"
   ]
  },
  {
   "cell_type": "code",
   "execution_count": null,
   "id": "b3b4e606",
   "metadata": {},
   "outputs": [],
   "source": [
    "comparison_report.open()\n",
    "\n",
    "for var_name in var_names[:4]:\n",
    "    comparison_df, details_df_list = compare_data(var_name)\n",
    "    comparison_report.insert_text(f\"Variable: {var_name}\")\n",
    "\n",
    "    comparison_report.insert_text(\"Overview table\")\n",
    "    comparison_report.insert_table(comparison_df)\n",
    "\n",
    "    comparison_report.insert_text(\"Details\")\n",
    "    for details_df in details_df_list:\n",
    "        comparison_report.insert_table(details_df)\n",
    "#     try:\n",
    "#         comparison_df, details_df_list = compare_data(var_name)\n",
    "#         comparison_report.write_text(f\"Variable: {var_name}\")\n",
    "        \n",
    "#         comparison_report.write_text(\"Overview table\")\n",
    "#         comparison_report.write_table(comparison_df)\n",
    "\n",
    "#         comparison_report.write_text(\"Details\")\n",
    "#         for details_df in details_df_list:\n",
    "#             comparison_report.write_table(details_df)\n",
    "\n",
    "#         comparison_report.add_pagebreak()\n",
    "        \n",
    "#     except:\n",
    "#         pass \n",
    "    \n",
    "    \n",
    "comparison_report.close()"
   ]
  },
  {
   "cell_type": "code",
   "execution_count": null,
   "id": "8d479ec2",
   "metadata": {},
   "outputs": [],
   "source": [
    "comparison_df, details_df_list = compare_data('number of chemical industries')"
   ]
  },
  {
   "cell_type": "code",
   "execution_count": null,
   "id": "fa37034e",
   "metadata": {},
   "outputs": [],
   "source": [
    "comparison_df"
   ]
  },
  {
   "cell_type": "code",
   "execution_count": null,
   "id": "72d531c8",
   "metadata": {},
   "outputs": [],
   "source": []
  }
 ],
 "metadata": {
  "language_info": {
   "name": "python"
  }
 },
 "nbformat": 4,
 "nbformat_minor": 5
}
