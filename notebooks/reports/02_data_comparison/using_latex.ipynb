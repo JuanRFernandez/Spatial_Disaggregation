{
 "cells": [
  {
   "cell_type": "code",
   "execution_count": null,
   "id": "ae6a2eaa",
   "metadata": {},
   "outputs": [],
   "source": [
    "import os\n",
    "import json\n",
    "import pandas as pd\n",
    "from zoomin.database.db_access import get_var_names\n",
    "from zoomin.data.comparison import compare_data"
   ]
  },
  {
   "cell_type": "code",
   "execution_count": null,
   "id": "19bc5637",
   "metadata": {},
   "outputs": [],
   "source": [
    "cwd = os.getcwd()\n",
    "report_path = os.path.join(cwd, \"..\", \"..\", \"..\", \"reports\", \"02_data_comparison\")"
   ]
  },
  {
   "cell_type": "code",
   "execution_count": null,
   "id": "64d140ff",
   "metadata": {},
   "outputs": [],
   "source": [
    "nl = '\\n'\n",
    "latex_nl = '\\\\\\\\'\n",
    "esc_nl = '\\\\'"
   ]
  },
  {
   "cell_type": "code",
   "execution_count": null,
   "id": "c535fb32",
   "metadata": {},
   "outputs": [],
   "source": [
    "var_names = get_var_names()"
   ]
  },
  {
   "cell_type": "code",
   "execution_count": null,
   "id": "ff06c712",
   "metadata": {},
   "outputs": [],
   "source": [
    "replacements = {'begin{tabular}': 'begin{tabularx}{\\\\textwidth}',\n",
    "                'end{tabular}': 'end{tabularx}'}\n",
    "\n",
    "def get_latex_table(df):\n",
    "    # prepare column_format\n",
    "    col_format = \"| X |\"\n",
    "    for i in range(len(df.columns)-1):\n",
    "        col_format = f\"{col_format} X |\"\n",
    "    \n",
    "    # pd to latex\n",
    "    table = df.style.hide(axis=\"index\").to_latex(column_format=col_format, \n",
    "                                             position_float=\"centering\",\n",
    "                                             hrules=True,\n",
    "                                             environment = \"table*\", \n",
    "                                             position=\"h\"\n",
    "                                             )\n",
    "    # replace tabular with tabularx and add width=textwidth\n",
    "    for key, value in replacements.items():\n",
    "        table = table.replace(key, value)\n",
    "        \n",
    "    return table "
   ]
  },
  {
   "cell_type": "code",
   "execution_count": null,
   "id": "82122029",
   "metadata": {},
   "outputs": [],
   "source": [
    "var_source_quality_dict_list = []"
   ]
  },
  {
   "cell_type": "code",
   "execution_count": null,
   "id": "5c44e238",
   "metadata": {},
   "outputs": [],
   "source": [
    "for i, var_name in enumerate(var_names):\n",
    "    print(var_name)\n",
    "    try:\n",
    "        comparison_df, details_df_list = compare_data(var_name)\n",
    "        \n",
    "        # write .tex file \n",
    "        with open(os.path.join(report_path,  \"sub_tex_files\", f'{i}.tex'), \"w\") as f:\n",
    "            #Chapter \n",
    "            f.write(f\"{esc_nl}chapter{{Variable: {var_name}}}{nl}\")\n",
    "\n",
    "            #Section: Overview table\n",
    "            f.write(f\"{esc_nl}section{{Overview}}{nl}\")\n",
    "\n",
    "            latex_table = get_latex_table(comparison_df)\n",
    "            f.write(latex_table)\n",
    "            f.write(nl)\n",
    "\n",
    "            #Section: Details \n",
    "            f.write(f\"{esc_nl}section{{Details}}{nl}\")\n",
    "            for details_df in details_df_list:\n",
    "                latex_table = get_latex_table(details_df)\n",
    "                f.write(latex_table)\n",
    "                \n",
    "        #NOTE: for now just choosing the first one as the best\n",
    "        # and assigning quality= \"good\"\n",
    "        \n",
    "        var_source_quality_dict_list.append({\"var_name\": var_name,  \n",
    "                           \"var_source\":comparison_df.iloc[0][\"Source\"], \n",
    "                           \"var_quality_level\": \"good\"})\n",
    "        \n",
    "    except ValueError:\n",
    "        print(f\"No data found for {var_name}.\")"
   ]
  },
  {
   "cell_type": "code",
   "execution_count": null,
   "id": "051adf60",
   "metadata": {},
   "outputs": [],
   "source": [
    "quality_df = pd.DataFrame(var_source_quality_dict_list)"
   ]
  },
  {
   "cell_type": "code",
   "execution_count": null,
   "id": "f431eb74",
   "metadata": {},
   "outputs": [],
   "source": [
    "quality_df.to_csv(os.path.join(report_path, \"quality_df.csv\"), index=False)"
   ]
  },
  {
   "cell_type": "code",
   "execution_count": null,
   "id": "781834b5",
   "metadata": {},
   "outputs": [],
   "source": []
  }
 ],
 "metadata": {
  "language_info": {
   "name": "python"
  }
 },
 "nbformat": 4,
 "nbformat_minor": 5
}
