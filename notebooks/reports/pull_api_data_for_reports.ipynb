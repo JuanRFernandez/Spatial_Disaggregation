{
 "cells": [
  {
   "cell_type": "code",
   "execution_count": null,
   "id": "b220ba74",
   "metadata": {},
   "outputs": [],
   "source": [
    "import os\n",
    "import pandas as pd\n",
    "import geopandas as gpd\n",
    "from dotenv import load_dotenv, find_dotenv\n",
    "from concurrent import futures\n",
    "from zoomin.report.api_data_download import download_variable_data"
   ]
  },
  {
   "cell_type": "code",
   "execution_count": null,
   "id": "f416f92d",
   "metadata": {},
   "outputs": [],
   "source": [
    "cwd = os.getcwd()"
   ]
  },
  {
   "cell_type": "code",
   "execution_count": null,
   "id": "d0ae43e6",
   "metadata": {},
   "outputs": [],
   "source": [
    "clm_related_vars = [\"annual mean mean temperature\",\n",
    "            \"annual mean precipitation\",\n",
    "            \"annual total precipitation\",\n",
    "            \"annual mean maximum temperature\",\n",
    "            \"annual mean minimum temperature\",\n",
    "            \"annual mean temperature cooling degree days\",\n",
    "            \"annual maximum temperature cooling degree days\",\n",
    "            \"annual minimum temperature cooling degree days\",\n",
    "            \"annual mean temperature heating degree days\",\n",
    "            \"annual maximum temperature heating degree days\",\n",
    "            \"annual minimum temperature heating degree days\",\n",
    "                    \"probability of a heatwave\",\n",
    "                   \"change in heatwave frequency\",\n",
    "                   \"probability of a coldwave\",\n",
    "                   \"change in coldwave frequency\",\n",
    "                   \"probability of a drought\",\n",
    "                   \"change in drought frequency\"\n",
    "           ]\n",
    "\n",
    "eucalc_transpor_related_data = [\"tra_vehicle-lifetime_new_freight_HDVL_FCEV\",\n",
    "\"tra_vehicle-lifetime_new_freight_HDVL_CEV\",\n",
    "\"tra_vehicle-lifetime_new_freight_HDVL_PHEV-diesel\",\n",
    "\"tra_vehicle-lifetime_new_freight_HDVL_PHEV-gasoline\",\n",
    "\"tra_vehicle-lifetime_new_freight_HDVL_ICE-gasoline\",\n",
    "\"tra_vehicle-lifetime_new_freight_HDVL_ICE-diesel\",\n",
    "\"tra_vehicle-lifetime_new_freight_HDVL_ICE-gas\",\n",
    "\"tra_vehicle-lifetime_new_freight_HDVL_BEV\",\n",
    "\"tra_vehicle-lifetime_new_freight_HDVM_FCEV\",\n",
    "\"tra_vehicle-lifetime_new_freight_HDVM_CEV\",\n",
    "\"tra_vehicle-lifetime_new_freight_HDVM_PHEV-diesel\",\n",
    "\"tra_vehicle-lifetime_new_freight_HDVM_PHEV-gasoline\",\n",
    "\"tra_vehicle-lifetime_new_freight_HDVM_ICE-gasoline\",\n",
    "\"tra_vehicle-lifetime_new_freight_HDVM_ICE-diesel\",\n",
    "\"tra_vehicle-lifetime_new_freight_HDVM_ICE-gas\",\n",
    "\"tra_vehicle-lifetime_new_freight_HDVM_BEV\",\n",
    "\"tra_vehicle-lifetime_new_freight_HDVH_FCEV\",\n",
    "\"tra_vehicle-lifetime_new_freight_HDVH_CEV\",\n",
    "\"tra_vehicle-lifetime_new_freight_HDVH_PHEV-diesel\",\n",
    "\"tra_vehicle-lifetime_new_freight_HDVH_PHEV-gasoline\",\n",
    "\"tra_vehicle-lifetime_new_freight_HDVH_ICE-gasoline\",\n",
    "\"tra_vehicle-lifetime_new_freight_HDVH_ICE-diesel\",\n",
    "\"tra_vehicle-lifetime_new_freight_HDVH_ICE-gas\",\n",
    "\"tra_vehicle-lifetime_new_freight_HDVH_BEV\",\n",
    "\"tra_vehicle-lifetime_new_freight_rail_CEV\",\n",
    "\"tra_vehicle-lifetime_new_freight_rail_ICE-diesel\",\n",
    "\"tra_vehicle-lifetime_new_freight_aviation_BEV\",\n",
    "\"tra_vehicle-lifetime_new_freight_aviation_ICE\",\n",
    "\"tra_vehicle-lifetime_new_freight_IWW_FCEV\",\n",
    "\"tra_vehicle-lifetime_new_freight_IWW_BEV\",\n",
    "\"tra_vehicle-lifetime_new_freight_IWW_ICE\",\n",
    "\"tra_vehicle-lifetime_new_freight_marine_FCEV\",\n",
    "\"tra_vehicle-lifetime_new_freight_marine_BEV\",\n",
    "\"tra_vehicle-lifetime_new_freight_marine_ICE\",\n",
    "\"tra_vehicle-lifetime_new_passenger_LDV_ICE-diesel\",\n",
    "\"tra_vehicle-lifetime_new_passenger_LDV_ICE-gasoline\",\n",
    "\"tra_vehicle-lifetime_new_passenger_LDV_ICE-gas\",\n",
    "\"tra_vehicle-lifetime_new_passenger_LDV_PHEV-diesel\",\n",
    "\"tra_vehicle-lifetime_new_passenger_LDV_PHEV-gasoline\",\n",
    "\"tra_vehicle-lifetime_new_passenger_LDV_BEV\",\n",
    "\"tra_vehicle-lifetime_new_passenger_LDV_FCEV\",\n",
    "\"tra_vehicle-lifetime_new_passenger_2W_ICE-gas\",\n",
    "\"tra_vehicle-lifetime_new_passenger_2W_ICE-diesel\",\n",
    "\"tra_vehicle-lifetime_new_passenger_2W_ICE-gasoline\",\n",
    "\"tra_vehicle-lifetime_new_passenger_2W_BEV\",\n",
    "\"tra_vehicle-lifetime_new_passenger_2W_FCEV\",\n",
    "\"tra_vehicle-lifetime_new_passenger_2W_PHEV\",\n",
    "\"tra_vehicle-lifetime_new_passenger_bus_ICE-diesel\",\n",
    "\"tra_vehicle-lifetime_new_passenger_bus_ICE-gasoline\",\n",
    "\"tra_vehicle-lifetime_new_passenger_bus_ICE-gas\",\n",
    "\"tra_vehicle-lifetime_new_passenger_bus_BEV\",\n",
    "\"tra_vehicle-lifetime_new_passenger_bus_FCEV\",\n",
    "\"tra_vehicle-lifetime_new_passenger_bus_PHEV-diesel\",\n",
    "\"tra_vehicle-lifetime_new_passenger_metro-tram_CEV\",\n",
    "\"tra_vehicle-lifetime_new_passenger_rail_CEV\",\n",
    "\"tra_vehicle-lifetime_new_passenger_rail_FCEV\",\n",
    "\"tra_vehicle-lifetime_new_passenger_rail_ICE-diesel\",\n",
    "\"tra_vehicle-lifetime_new_passenger_aviation_ICE\",\n",
    "\"tra_vehicle-lifetime_new_passenger_aviation_BEV\",\n",
    "]"
   ]
  },
  {
   "cell_type": "code",
   "execution_count": null,
   "id": "b97070a9",
   "metadata": {},
   "outputs": [],
   "source": [
    "VAR_DF_PATH = os.path.join(cwd, \"..\", \"..\", \"data\", \"input\", \"raw\", \"vars_list_details_and_tags.xlsx\")\n",
    "var_df = pd.read_excel(VAR_DF_PATH, sheet_name=\"input_vars\")"
   ]
  },
  {
   "cell_type": "code",
   "execution_count": null,
   "id": "f69a9d6b",
   "metadata": {},
   "outputs": [],
   "source": [
    "var_df = var_df[~var_df[\"var_name\"].isin(clm_related_vars)]\n",
    "var_df = var_df[~var_df[\"var_name\"].isin(eucalc_transpor_related_data)]"
   ]
  },
  {
   "cell_type": "code",
   "execution_count": null,
   "id": "3fd95963",
   "metadata": {},
   "outputs": [],
   "source": [
    "# var_df = var_df[var_df[\"var_name\"].isin([\"industrial or commercial units cover\"])]\n"
   ]
  },
  {
   "cell_type": "code",
   "execution_count": null,
   "id": "c6056e9a",
   "metadata": {},
   "outputs": [],
   "source": [
    "def perform_parallel_processing(iter_items):\n",
    "    with futures.ProcessPoolExecutor() as pool: \n",
    "\n",
    "        pool.map(download_variable_data, \n",
    "                 iter_items\n",
    "                )\n",
    "    \n",
    "if __name__ == \"__main__\": \n",
    "    iter_items = []\n",
    "    for country_code in [\"DE\", \"ES\", \"PL\"]:\n",
    "        for var in var_df[\"var_name\"]:\n",
    "            if not os.path.exists(os.path.join(cwd, \"..\", \"..\", \"data\", \"output\", \"api_data\", f\"{country_code}_{var}.csv\")):\n",
    "                iter_items.append((var, country_code))\n",
    "        \n",
    "    \n",
    "    perform_parallel_processing(iter_items) "
   ]
  },
  {
   "cell_type": "code",
   "execution_count": null,
   "id": "0a851b2f",
   "metadata": {},
   "outputs": [],
   "source": []
  }
 ],
 "metadata": {
  "language_info": {
   "name": "python"
  }
 },
 "nbformat": 4,
 "nbformat_minor": 5
}
