{
 "cells": [
  {
   "cell_type": "code",
   "execution_count": null,
   "id": "1e1196e3",
   "metadata": {},
   "outputs": [],
   "source": [
    "%load_ext autoreload\n",
    "%autoreload 2"
   ]
  },
  {
   "cell_type": "code",
   "execution_count": null,
   "id": "01671555",
   "metadata": {},
   "outputs": [],
   "source": [
    "import os\n",
    "import math \n",
    "import pandas as pd\n",
    "import geopandas as gpd\n",
    "import matplotlib\n",
    "import numpy as np\n",
    "import matplotlib.pyplot as plt\n",
    "import matplotlib.patches as mpatches\n",
    "from matplotlib import rc\n",
    "\n",
    "from zoomin.main_modules.disaggregation import disaggregate_eucalc_output\n",
    "from zoomin.data.population import get_population\n",
    "from zoomin.main_modules.shares import get_population_share"
   ]
  },
  {
   "cell_type": "code",
   "execution_count": null,
   "id": "a5f2b01b",
   "metadata": {},
   "outputs": [],
   "source": [
    "cwd = os.getcwd()"
   ]
  },
  {
   "cell_type": "code",
   "execution_count": null,
   "id": "fd1beee3",
   "metadata": {},
   "outputs": [],
   "source": [
    "countries_dict = {'AT': 'Austria',\n",
    " 'BE': 'Belgium',\n",
    " 'BG': 'Bulgaria',\n",
    " 'CH': 'Switzerland',\n",
    " 'CY': 'Cyprus',\n",
    " 'CZ': 'Czechia',\n",
    " 'DE': 'Germany',\n",
    " 'DK': 'Denmark',\n",
    " 'EE': 'Estonia',\n",
    " 'EL': 'Greece',\n",
    " 'ES': 'Spain',\n",
    " 'FI': 'Finland',\n",
    " 'FR': 'France',\n",
    " 'HR': 'Croatia',\n",
    " 'HU': 'Hungary',\n",
    " 'IE': 'Ireland',\n",
    " 'IT': 'Italy',\n",
    " 'LT': 'Lithuania',\n",
    " 'LU': 'Luxembourg',\n",
    " 'LV': 'Latvia',\n",
    " 'MT': 'Malta',\n",
    " 'NL': 'Netherlands',\n",
    " 'PL': 'Poland',\n",
    " 'PT': 'Portugal',\n",
    " 'RO': 'Romania',\n",
    " 'SE': 'Sweden',\n",
    " 'SI': 'Slovenia',\n",
    " 'SK': 'Slovakia',\n",
    " 'UK': 'United Kingdom'\n",
    " }"
   ]
  },
  {
   "cell_type": "markdown",
   "id": "c9838a6e",
   "metadata": {},
   "source": [
    "# Disaggregation"
   ]
  },
  {
   "cell_type": "code",
   "execution_count": null,
   "id": "3835dc77",
   "metadata": {},
   "outputs": [],
   "source": [
    "DATA_PATH = os.path.join(cwd, f\"../../data/input/EUCalc_dummy_EU.json\")\n",
    "\n",
    "SAVE_PATH = os.path.join(cwd, \"../data/output/\")\n",
    "save_name = f'disaggregated_data_EU'"
   ]
  },
  {
   "cell_type": "code",
   "execution_count": null,
   "id": "6a8d6187",
   "metadata": {},
   "outputs": [],
   "source": [
    "disagg_data = disaggregate_eucalc_output(DATA_PATH, \n",
    "                                         region_to_disaggregate,\n",
    "                                         save_path=SAVE_PATH, \n",
    "                                         save_name=save_name)"
   ]
  },
  {
   "cell_type": "code",
   "execution_count": null,
   "id": "87aa8a46",
   "metadata": {},
   "outputs": [],
   "source": [
    "disagg_data"
   ]
  },
  {
   "cell_type": "markdown",
   "id": "e6fde29e",
   "metadata": {},
   "source": [
    "# EU Country level"
   ]
  },
  {
   "cell_type": "markdown",
   "id": "2e7a4d22",
   "metadata": {},
   "source": [
    "### Population and population share "
   ]
  },
  {
   "cell_type": "code",
   "execution_count": null,
   "id": "9352bed1",
   "metadata": {},
   "outputs": [],
   "source": [
    "INPUT_PATH = os.path.join(cwd, \"../../data/input/processed\")\n",
    "OUTPUT_PATH = os.path.join(cwd, \"../reports/figures/\")"
   ]
  },
  {
   "cell_type": "code",
   "execution_count": null,
   "id": "8f0cc29d",
   "metadata": {},
   "outputs": [],
   "source": [
    "gdf = gpd.read_file(os.path.join(INPUT_PATH,  'Shapefiles', 'countries.shp'))"
   ]
  },
  {
   "cell_type": "code",
   "execution_count": null,
   "id": "7146b000",
   "metadata": {},
   "outputs": [],
   "source": [
    "countries = gdf.CNTR_CODE\n",
    "\n",
    "reg_pop = get_population(countries, countries = True)\n",
    "reg_pop_share = get_population_share(countries, countries = True)\n",
    "\n",
    "gdf['POP'] = gdf.apply(lambda x: reg_pop.get(x['CNTR_CODE']), axis=1)\n",
    "gdf['POP_SHARE'] = gdf.apply(lambda x: reg_pop_share.get(x['CNTR_CODE']), axis=1)\n"
   ]
  },
  {
   "cell_type": "code",
   "execution_count": null,
   "id": "26c29533",
   "metadata": {},
   "outputs": [],
   "source": [
    "gdf"
   ]
  },
  {
   "cell_type": "code",
   "execution_count": null,
   "id": "85bfc756",
   "metadata": {},
   "outputs": [],
   "source": [
    "country_color_dict= {\"#0076FF\" : 'Belgium', \n",
    "                   \"#008F9C\" : 'Greece', \n",
    "                   \"#E85EBE\": 'Lithuania', \n",
    "                   \"#00B917\":  'Portugal',\n",
    "                   \"#EEE502\":  'Bulgaria',  \n",
    "                   \"#FF029D\": 'Spain',\n",
    "                   \"#98FF52\":  'Luxembourg', \n",
    "                   \"#691970\": 'Romania',\n",
    "                   \"#1A1A1A\":  'Czechia', \n",
    "                   \"#007DB5\": 'France', \n",
    "                   \"#00FF00\": 'Hungary',\n",
    "                   \"#774D00\":  'Slovenia', \n",
    "                   \"#0E4CA1\": 'Denmark', \n",
    "                   \"#0000FF\": 'Croatia', \n",
    "                   \"#7544B1\": 'Malta', \n",
    "                   \"#B500FF\": 'Slovakia',\n",
    "                   \"#6A826C\":  'Germany', \n",
    "                   \"#FF6E41\": 'Italy', \n",
    "                   \"#005F39\": 'Netherlands',\n",
    "                   \"#5FAD4E\":  'Finland',\n",
    "                   \"#A75740\":  'Estonia',        \n",
    "                   \"#A5FFD2\": 'Cyprus',\n",
    "                   \"#009BFF\": 'Austria',\n",
    "                   \"#CEEDAD\": 'Sweden',\n",
    "                   \"#7A4782\": 'Ireland',\n",
    "                   \"#7E2DD2\": 'Latvia',\n",
    "                   \"#85A900\": 'Poland',\n",
    "                   \"#FF0056\": 'Switzerland',\n",
    "                   \"#00AE7E\": 'United Kingdom',\n",
    "#                    \"#D5FF00\", \n",
    "#                    \"#BDD393\", \n",
    "#                    \"#9E008E\", \n",
    "#                    \"#C28C9F\", \n",
    "#                    \"#FF74A3\",\n",
    "#                    \"#01D0FF\", \n",
    "#                    \"#004754\", \n",
    "#                    \"#E56FFE\", \n",
    "#                    \"#788231\", \n",
    "#                    \"#FFB167\",\n",
    "#                    \"#3EE3AA\", \n",
    "#                    \"#671A31\", \n",
    "#                    \"#5E5E5E\", \n",
    "#                    \"#200F3A\",\n",
    "#                    \"#FFDB66\", \n",
    "#                    \"#006401\", \n",
    "#                    \"#01FFFE\",\n",
    "#                    \"#FF937E\",\n",
    "#                    \"#00FF78\", \n",
    "#                    \"#6B6882\", \n",
    "#                    \"#95003A\", \n",
    "#                    \"#FE8900\",\n",
    "#                    \"#91D0CB\", \n",
    "#                    \"#BE9970\", \n",
    "#                    \"#FF0000\", \n",
    "#                    \"#001544\", \n",
    "#                    \"#968AE8\",\n",
    "#                    \"#BB8800\", \n",
    "#                    \"#43002C\", \n",
    "#                    \"#DEFF74\", \n",
    "#                    \"#00FFC6\", \n",
    "#                    \"#FFE502\",\n",
    "#                    \"#620E00\", \n",
    "                   }\n",
    "\n",
    "country_color_dict = dict((v,k) for k,v in country_color_dict.items())"
   ]
  },
  {
   "cell_type": "markdown",
   "id": "7e566087",
   "metadata": {},
   "source": [
    "### Population and polutation share"
   ]
  },
  {
   "cell_type": "code",
   "execution_count": null,
   "id": "d2637b24",
   "metadata": {},
   "outputs": [],
   "source": [
    "matplotlib.rcParams.update({'font.size': 25})\n",
    "\n",
    "fig = plt.figure(figsize=(13, 13))\n",
    "gs = fig.add_gridspec(1, 2, wspace=0, hspace=0)\n",
    "\n",
    "#=======================================================================================\n",
    "# Population \n",
    "ax1 = plt.subplot(gs[:, :1])\n",
    "\n",
    "vmin, vmax = min(gdf['POP']), max(gdf['POP'])\n",
    "gdf.plot(column='POP', cmap='Blues', linewidth=0.8, ax=ax1, edgecolor='0.8')\n",
    "ax1.axis('off')\n",
    "\n",
    "ax1.set_title(f'Population', fontweight=\"bold\", fontsize=30)\n",
    "\n",
    "sm = plt.cm.ScalarMappable(cmap='Blues', norm=plt.Normalize(vmin=vmin, vmax=vmax))\n",
    "sm._A = []\n",
    "cbar = fig.colorbar(sm, orientation='horizontal', shrink=0.8, pad=0);\n",
    "cbar.ax.tick_params(labelsize=30)\n",
    "#=======================================================================================\n",
    "# population share \n",
    "\n",
    "ax2 = plt.subplot(gs[:, 1:])\n",
    "\n",
    "vmin, vmax = min(gdf['POP_SHARE']), max(gdf['POP_SHARE'])\n",
    "gdf.plot(column='POP_SHARE', cmap='Blues', linewidth=0.8, ax=ax2, edgecolor='0.8')\n",
    "ax2.axis('off')\n",
    "\n",
    "ax2.set_title(f'Population share', fontweight=\"bold\", fontsize=30)\n",
    "\n",
    "sm = plt.cm.ScalarMappable(cmap='Blues', norm=plt.Normalize(vmin=vmin, vmax=vmax))\n",
    "sm._A = []\n",
    "cbar = fig.colorbar(sm, orientation='horizontal', shrink=0.8, pad=0);\n",
    "cbar.ax.tick_params(labelsize=30)\n",
    "\n",
    "plt.tight_layout()\n",
    "\n",
    "#save figure \n",
    "fig_name = f'EU_population'\n",
    "\n",
    "plt.savefig(fname=f'{os.path.join(OUTPUT_PATH, fig_name)}.png', format='png', bbox_inches=\"tight\", dpi=200)    "
   ]
  },
  {
   "cell_type": "markdown",
   "id": "652ac9a6",
   "metadata": {},
   "source": [
    "### Disaggregated 2020, 2015"
   ]
  },
  {
   "cell_type": "code",
   "execution_count": null,
   "id": "141c9499",
   "metadata": {},
   "outputs": [],
   "source": [
    "EUCALC_PATH = os.path.join(cwd, \"../../data/output/\")\n",
    "\n",
    "disagg_data = pd.read_csv(os.path.join(EUCALC_PATH, 'disaggregated_data_EU.csv'))"
   ]
  },
  {
   "cell_type": "code",
   "execution_count": null,
   "id": "580f3efa",
   "metadata": {},
   "outputs": [],
   "source": [
    "disagg_data"
   ]
  },
  {
   "cell_type": "code",
   "execution_count": null,
   "id": "977d6f54",
   "metadata": {},
   "outputs": [],
   "source": [
    "vars = disagg_data.variable.unique()"
   ]
  },
  {
   "cell_type": "code",
   "execution_count": null,
   "id": "1812227e",
   "metadata": {},
   "outputs": [],
   "source": [
    "var_0_list  = []\n",
    "for var in vars:\n",
    "    df = disagg_data.loc[disagg_data['variable'] == var].drop(columns=['variable', 'title', 'region'])\n",
    "    if (df.values == 0).all() or (df.isnull().values.all()):\n",
    "        var_0_list.append(var)"
   ]
  },
  {
   "cell_type": "code",
   "execution_count": null,
   "id": "09c44a92",
   "metadata": {},
   "outputs": [],
   "source": [
    "valid_vars = set(vars) - set(var_0_list)"
   ]
  },
  {
   "cell_type": "code",
   "execution_count": null,
   "id": "8674d7f5",
   "metadata": {},
   "outputs": [],
   "source": [
    "list(valid_vars)[1:2]"
   ]
  },
  {
   "cell_type": "code",
   "execution_count": null,
   "id": "119e0897",
   "metadata": {},
   "outputs": [],
   "source": [
    "matplotlib.rcParams.update({'font.size': 15})\n",
    "\n",
    "for var in list(valid_vars): \n",
    "    data = disagg_data.loc[disagg_data['variable'] == var].drop(columns=['variable', 'title'])\n",
    "\n",
    "    fig, ax = plt.subplots(figsize=(10, 5))\n",
    "\n",
    "    bottom_val = [0 for i in range(7)]\n",
    "    for country in countries_dict.keys():\n",
    "        country_full_name = countries_dict.get(country)\n",
    "\n",
    "        row = data.loc[data.region==country]\n",
    "\n",
    "        x = list(row.columns[1:])\n",
    "        y = list(row.values.flatten()[1:])\n",
    "        ax.bar(x, \n",
    "               y, \n",
    "               width=0.3, \n",
    "               bottom=bottom_val, \n",
    "               color=country_color_dict[country_full_name])\n",
    "\n",
    "        bottom_val = [a + b for a, b in zip(bottom_val, list(y))]\n",
    "\n",
    "    # y label    \n",
    "    var_name, unit = var.split('[')\n",
    "    ax.set_ylabel(unit[:-1])\n",
    "\n",
    "    # legend\n",
    "    color_patch_list = []\n",
    "    for label, color in country_color_dict.items():\n",
    "        color_patch_list.append(mpatches.Patch(edgecolor=color, \n",
    "                                               facecolor=color, \n",
    "                                               label=label))\n",
    "\n",
    "    color_patch_list = list(reversed(color_patch_list)) #flip to match bars  \n",
    "    #plt.legend(handles=color_patch_list, bbox_to_anchor=(0.5, -0.06), loc='upper center', ncol=5, fontsize=14)\n",
    "    plt.legend(handles=color_patch_list, bbox_to_anchor=(1.1, 0.5), loc='center left', fontsize=14,  ncol=2)\n",
    "    \n",
    "    #save figure \n",
    "    fig_name = f'EU_{var_name}' # % is a special char in latex, so such chars must be removeed \n",
    "\n",
    "    plt.savefig(fname=f'{os.path.join(OUTPUT_PATH, fig_name)}.png', format='png', bbox_inches=\"tight\", dpi=200)    "
   ]
  },
  {
   "cell_type": "code",
   "execution_count": null,
   "id": "1688a51c",
   "metadata": {},
   "outputs": [],
   "source": [
    "matplotlib.rcParams.update({'font.size': 14})\n",
    "\n",
    "for var in valid_vars:\n",
    "    fig, ax = plt.subplots(nrows=1, \n",
    "                       ncols=2, \n",
    "                       gridspec_kw={'hspace': 0, 'wspace': 0}, # spacing between the grid figs \n",
    "                       figsize=(10, 10))\n",
    "\n",
    "    data = disagg_data.loc[disagg_data['variable'] == var].drop(columns=['variable', 'title'])\n",
    "    data = gdf.merge(data, how='left', left_on='NUTS_ID', right_on='region')\n",
    "\n",
    "\n",
    "    vmin = data[['2020','2050']].min().min()\n",
    "    vmax = data[['2020','2050']].max().max()\n",
    "\n",
    "    #=======================================================================================\n",
    "    # Disaggregated values in 2020\n",
    "\n",
    "    data.plot(column='2020', vmin=vmin, vmax=vmax, cmap='Blues', linewidth=0.8, ax=ax[0], edgecolor='0.8')\n",
    "    ax[0].axis('off')\n",
    "\n",
    "    ax[0].set_title('Year 2020', fontsize=20)\n",
    "    #=======================================================================================\n",
    "    # Disaggregated values in 2050\n",
    "\n",
    "    data.plot(column='2050', vmin=vmin, vmax=vmax, cmap='Blues', linewidth=0.8, ax=ax[1], edgecolor='0.8')\n",
    "    ax[1].axis('off')\n",
    "\n",
    "    ax[1].set_title('Year 2050', fontsize=20)\n",
    "\n",
    "    sm = plt.cm.ScalarMappable(cmap='Blues', norm=plt.Normalize(vmin=vmin, vmax=vmax))\n",
    "    sm._A = []\n",
    "    cbar = fig.colorbar(sm, ax=[ax[0], ax[1]], orientation = 'horizontal', location='bottom', shrink=1, fraction=0.046, pad=0.04);\n",
    "    cbar.ax.set_ylabel(var.split('[')[1][:-1])\n",
    "\n",
    "\n",
    "    #save figure \n",
    "    var = var.split('[')[0]\n",
    "    fig_name = f'EU_disagg_{var}'\n",
    "\n",
    "    plt.savefig(fname=f'{os.path.join(OUTPUT_PATH, fig_name)}.png', format='png', bbox_inches=\"tight\", dpi=200)    "
   ]
  },
  {
   "cell_type": "markdown",
   "id": "96572edd",
   "metadata": {},
   "source": [
    "### Top 10% and bottom 10% regions"
   ]
  },
  {
   "cell_type": "code",
   "execution_count": null,
   "id": "c4a751e8",
   "metadata": {},
   "outputs": [],
   "source": [
    "rc('text', usetex=True)"
   ]
  },
  {
   "cell_type": "code",
   "execution_count": null,
   "id": "f6a341b9",
   "metadata": {},
   "outputs": [],
   "source": [
    "n_countries = math.ceil(len(countries_dict) * 10/100)"
   ]
  },
  {
   "cell_type": "code",
   "execution_count": null,
   "id": "4922de64",
   "metadata": {},
   "outputs": [],
   "source": [
    "n_countries"
   ]
  },
  {
   "cell_type": "code",
   "execution_count": null,
   "id": "59541452",
   "metadata": {},
   "outputs": [],
   "source": [
    "for var in list(valid_vars):\n",
    "    fig, ax = plt.subplots(nrows=1, \n",
    "                       ncols=2, \n",
    "                       gridspec_kw={'hspace': 0, 'wspace': 0}, # spacing between the grid figs \n",
    "                       figsize=(13, 13))\n",
    "\n",
    "    data = disagg_data.loc[disagg_data['variable'] == var].drop(columns=['variable', 'title'])\n",
    "    data = gdf.merge(data, how='left', left_on='NUTS_ID', right_on='region')\n",
    "\n",
    "\n",
    "    #=======================================================================================\n",
    "    # Year 2020\n",
    "    # all \n",
    "    data.plot(color='white', ax=ax[0], edgecolor='0.8')\n",
    "\n",
    "    #top 10 percent\n",
    "    top_data = data[['region', '2020', 'geometry']].sort_values(by='2020')[:n_countries]\n",
    "    top_data.plot(color=\"#00FF78\", ax=ax[0], edgecolor='0.8')\n",
    "\n",
    "    #top 10 percent\n",
    "    bottom_data = data[['region', '2020', 'geometry']].sort_values(by='2020')[-n_countries:]\n",
    "    bottom_data.plot(color=\"#E56FFE\", ax=ax[0], edgecolor='0.8')\n",
    "\n",
    "    ax[0].axis('off')\n",
    "\n",
    "    ax[0].set_title('Year 2020', fontsize=20)\n",
    "\n",
    "    # legend\n",
    "\n",
    "    color_patch_list = []\n",
    "    color_patch_list.append(mpatches.Patch(edgecolor=\"#00FF78\", \n",
    "                                           facecolor=\"#00FF78\", \n",
    "                                           label=r\"\\textbf{Top 10\\% regions}\"))\n",
    "    for region in top_data.region:\n",
    "        color_patch_list.append(mpatches.Patch(edgecolor=\"white\", \n",
    "                                           facecolor=\"white\", \n",
    "                                           label=countries_dict.get(region)))\n",
    "\n",
    "    color_patch_list.append(mpatches.Patch(edgecolor=\"#E56FFE\", \n",
    "                                           facecolor=\"#E56FFE\", \n",
    "                                           label=r\"\\textbf{Bottom 10\\% regions}\"))\n",
    "    for region in bottom_data.region:\n",
    "        color_patch_list.append(mpatches.Patch(edgecolor=\"white\", \n",
    "                                           facecolor=\"white\", \n",
    "                                           label=countries_dict.get(region)))\n",
    "\n",
    "    ax[0].legend(handles=color_patch_list, bbox_to_anchor=(0.5, 0.0), loc='upper center', ncol=2, fontsize=14)\n",
    "    # #=======================================================================================\n",
    "    # Year 2050\n",
    "    #all \n",
    "    data.plot(color='white', ax=ax[1], edgecolor='0.8')\n",
    "\n",
    "    #top 10 percent\n",
    "    top_data = data[['region', '2050', 'geometry']].sort_values(by='2050')[:n_countries]\n",
    "    top_data.plot(color=\"#00FF78\", ax=ax[1], edgecolor='0.8')\n",
    "\n",
    "    #top 10 percent\n",
    "    bottom_data = data[['region', '2050', 'geometry']].sort_values(by='2050')[-n_countries:]\n",
    "    bottom_data.plot(color=\"#E56FFE\", ax=ax[1], edgecolor='0.8')\n",
    "\n",
    "    ax[1].axis('off')\n",
    "\n",
    "    ax[1].set_title('Year 2050', fontsize=20)\n",
    "\n",
    "    # legend\n",
    "\n",
    "    color_patch_list = []\n",
    "    color_patch_list.append(mpatches.Patch(edgecolor=\"#00FF78\", \n",
    "                                           facecolor=\"#00FF78\", \n",
    "                                           label=r\"\\textbf{Top 10\\% regions}\"))\n",
    "    for region in top_data.region:\n",
    "        color_patch_list.append(mpatches.Patch(edgecolor=\"white\", \n",
    "                                           facecolor=\"white\", \n",
    "                                           label=countries_dict.get(region)))\n",
    "\n",
    "    color_patch_list.append(mpatches.Patch(edgecolor=\"#E56FFE\", \n",
    "                                           facecolor=\"#E56FFE\", \n",
    "                                           label=r\"\\textbf{Bottom 10\\% regions}\"))\n",
    "    for region in bottom_data.region:\n",
    "        color_patch_list.append(mpatches.Patch(edgecolor=\"white\", \n",
    "                                           facecolor=\"white\", \n",
    "                                           label=countries_dict.get(region)))\n",
    "\n",
    "    ax[1].legend(handles=color_patch_list, bbox_to_anchor=(0.5, 0.0), loc='upper center', ncol=2, fontsize=14)\n",
    "    \n",
    "    #save figure \n",
    "    var = var.split('[')[0]\n",
    "    fig_name = f'EU_TD_{var}'\n",
    "\n",
    "    plt.savefig(fname=f'{os.path.join(OUTPUT_PATH, fig_name)}.png', format='png', bbox_inches=\"tight\", dpi=200)    "
   ]
  },
  {
   "cell_type": "markdown",
   "id": "b201e4cd",
   "metadata": {},
   "source": [
    "### DFs for LATEX report"
   ]
  },
  {
   "cell_type": "code",
   "execution_count": null,
   "id": "db2f1349",
   "metadata": {},
   "outputs": [],
   "source": [
    "var_info = pd.read_csv(os.path.join(INPUT_PATH, 'eucalc_output_vars.csv'))"
   ]
  },
  {
   "cell_type": "code",
   "execution_count": null,
   "id": "2efc052b",
   "metadata": {},
   "outputs": [],
   "source": [
    "sector_full_names = {'agr': 'Agriculture', \n",
    "                    'bld': 'Buildings', \n",
    "                    'tra' : 'Transport', \n",
    "                    'elc': 'Electricity', \n",
    "                    'ccu': 'Carbon capture and use', \n",
    "                    'fos': 'Fossil', \n",
    "                    'ind': 'Industry', \n",
    "                    'lus': 'Land use', \n",
    "                    'min': 'Minerals', \n",
    "                    'str': 'Storage', \n",
    "                    'wat': 'Water', \n",
    "                    'air': 'Air polution',\n",
    "                    'amm': 'Ammonium', \n",
    "                    'bdy': 'bdy', \n",
    "                    'clm': 'clm', \n",
    "                    'clt': 'clt', \n",
    "                    'dhg': 'dhg',\n",
    "                    'gas': 'gas', \n",
    "                     'oal' : 'oal', \n",
    "                     'ear': 'ear', \n",
    "                     'ass': 'ass', \n",
    "                     'oil': 'oil', \n",
    "                     'ude': 'ude',\n",
    "                     #nan, \n",
    "                     'ter': 'Terrestrial', \n",
    "                     'bio': 'bio',\n",
    "                     'row': 'row', \n",
    "                     'ref': 'ref',  \n",
    "                     'emp': 'emp',  \n",
    "                     'gen': 'gen', \n",
    "                     'rod': 'rod', \n",
    "                     'lfs': 'lfs',\n",
    "                      'O2e': 'O2e'}"
   ]
  },
  {
   "cell_type": "code",
   "execution_count": null,
   "id": "efa27beb",
   "metadata": {},
   "outputs": [],
   "source": [
    "len(sector_full_names)"
   ]
  },
  {
   "cell_type": "code",
   "execution_count": null,
   "id": "c1736c1d",
   "metadata": {},
   "outputs": [],
   "source": [
    "var_info['sector_full_name'] = var_info.apply(lambda x: sector_full_names.get(x['sector']), axis=1)"
   ]
  },
  {
   "cell_type": "code",
   "execution_count": null,
   "id": "4da909c5",
   "metadata": {},
   "outputs": [],
   "source": [
    "var_info.metric.unique()"
   ]
  },
  {
   "cell_type": "code",
   "execution_count": null,
   "id": "27e23318",
   "metadata": {},
   "outputs": [],
   "source": [
    "DATA_PATH = 'C:/Users/s.patil/Documents/code/spatial_disaggregation/reports/Data/'\n",
    "\n",
    "# save different csv for each sector so it is easy to read in lATEX \n",
    "for sector in sector_full_names.values():\n",
    " #sector = 'Land use'    \n",
    "    data = var_info[['column', 'sector_full_name', 'metric', 'display_name']]\n",
    "\n",
    "\n",
    "    data = data.loc[data['sector_full_name'] == sector].drop(columns='sector_full_name')\n",
    "\n",
    "    # should be a valid var i.e., must be present in the data \n",
    "    data = data[data['column'].isin(valid_vars)]\n",
    "\n",
    "    if not data.empty:\n",
    "\n",
    "        for index, row in data.iterrows():\n",
    "            # replace null display names with last part of the var names \n",
    "            if pd.isnull(row['display_name']):\n",
    "                data.loc[index,'display_name'] = row['column'].split('_')[-1].split('[')[0]\n",
    "\n",
    "            # no commas allowed in csv files. so put the string after comma in brackets\n",
    "            if ',' in row['display_name']:\n",
    "\n",
    "                try:\n",
    "                    [val1, val2] = row['display_name'].split(', ')\n",
    "\n",
    "                    data.loc[index,'display_name'] = f'{val1} ({val2})'\n",
    "\n",
    "                except:\n",
    "                    data.loc[index,'display_name'] = ' '.join(row['display_name'].split(', '))\n",
    "\n",
    "             # remove units from columns \n",
    "            data.loc[index,'column'] = row['column'].split('[')[0]\n",
    "\n",
    "        data_name = sector.replace(\" \", \"-\")\n",
    "        print(data_name)\n",
    "        data.to_csv(os.path.join(DATA_PATH, f'{data_name}.csv'))"
   ]
  },
  {
   "cell_type": "code",
   "execution_count": null,
   "id": "9f1630c2",
   "metadata": {},
   "outputs": [],
   "source": [
    "with open(r\"C:\\Users\\s.patil\\Documents\\code\\spatial_disaggregation\\reports\\Agriculture.tex\", \"w\") as f:\n",
    "    f.write(\"\\\\begin{tabular}{\" + \" | \".join([\"c\"] * len(df.columns)) + \"}\\n\")\n",
    "    for i, row in df.iterrows():\n",
    "        f.write(\" & \".join([str(x) for x in row.values]) + \" \\\\\\\\\\n\")\n",
    "    f.write(\"\\\\end{tabular}\")\n"
   ]
  },
  {
   "cell_type": "code",
   "execution_count": null,
   "id": "7e67c77e",
   "metadata": {},
   "outputs": [],
   "source": []
  },
  {
   "cell_type": "code",
   "execution_count": null,
   "id": "cfa5ebcd",
   "metadata": {},
   "outputs": [],
   "source": []
  }
 ],
 "metadata": {
  "language_info": {
   "name": "python"
  }
 },
 "nbformat": 4,
 "nbformat_minor": 5
}
