{
 "cells": [
  {
   "cell_type": "code",
   "execution_count": null,
   "id": "1e1196e3",
   "metadata": {},
   "outputs": [],
   "source": [
    "%load_ext autoreload\n",
    "%autoreload 2"
   ]
  },
  {
   "cell_type": "code",
   "execution_count": null,
   "id": "01671555",
   "metadata": {},
   "outputs": [],
   "source": [
    "import os\n",
    "import math \n",
    "import pandas as pd\n",
    "import geopandas as gpd\n",
    "import matplotlib\n",
    "import numpy as np\n",
    "import matplotlib.pyplot as plt\n",
    "import matplotlib.patches as mpatches\n",
    "from matplotlib.patches import Rectangle\n",
    "from matplotlib import rc\n",
    "\n",
    "from zoomin.main_modules.disaggregation import disaggregate_eucalc_output\n",
    "from zoomin.data.population import get_population\n",
    "from zoomin.main_modules.shares import get_population_share"
   ]
  },
  {
   "cell_type": "code",
   "execution_count": null,
   "id": "a5f2b01b",
   "metadata": {},
   "outputs": [],
   "source": [
    "cwd = os.getcwd()"
   ]
  },
  {
   "cell_type": "markdown",
   "id": "c9838a6e",
   "metadata": {},
   "source": [
    "# Disaggregation"
   ]
  },
  {
   "cell_type": "code",
   "execution_count": null,
   "id": "3835dc77",
   "metadata": {},
   "outputs": [],
   "source": [
    "region_to_disaggregate = 'DE'\n",
    "DATA_PATH = os.path.join(cwd, f\"../../data/input/raw/EUCalc_dummy_{region_to_disaggregate}.json\")\n",
    "\n",
    "SAVE_PATH = os.path.join(cwd, \"../data/output/\")\n",
    "save_name = f'disaggregated_data_{region_to_disaggregate}'"
   ]
  },
  {
   "cell_type": "code",
   "execution_count": null,
   "id": "6a8d6187",
   "metadata": {},
   "outputs": [],
   "source": [
    "disagg_data = disaggregate_eucalc_output(DATA_PATH, \n",
    "                                         region_to_disaggregate,\n",
    "                                         save_path=SAVE_PATH, \n",
    "                                         save_name=save_name)"
   ]
  },
  {
   "cell_type": "code",
   "execution_count": null,
   "id": "87aa8a46",
   "metadata": {},
   "outputs": [],
   "source": [
    "disagg_data"
   ]
  },
  {
   "cell_type": "markdown",
   "id": "2e7a4d22",
   "metadata": {},
   "source": [
    "### Population and population share "
   ]
  },
  {
   "cell_type": "code",
   "execution_count": null,
   "id": "9352bed1",
   "metadata": {},
   "outputs": [],
   "source": [
    "INPUT_PATH = os.path.join(cwd, \"../../data/input/processed/\")\n",
    "OUTPUT_PATH = os.path.join(cwd, \"../reports/figures/\")"
   ]
  },
  {
   "cell_type": "code",
   "execution_count": null,
   "id": "8f0cc29d",
   "metadata": {},
   "outputs": [],
   "source": [
    "gdf = gpd.read_file(os.path.join(INPUT_PATH,  'Shapefiles', 'nuts3_DE.shp'))"
   ]
  },
  {
   "cell_type": "code",
   "execution_count": null,
   "id": "c2575b23",
   "metadata": {},
   "outputs": [],
   "source": [
    "gdf"
   ]
  },
  {
   "cell_type": "code",
   "execution_count": null,
   "id": "7146b000",
   "metadata": {},
   "outputs": [],
   "source": [
    "reg_pop = get_population(gdf.NUTS_ID, countries = False)\n",
    "reg_pop_share = get_population_share(gdf.NUTS_ID, countries = False)\n",
    "\n",
    "gdf['POP'] = gdf.apply(lambda x: reg_pop.get(x['NUTS_ID']), axis=1)\n",
    "gdf['POP_SHARE'] = gdf.apply(lambda x: reg_pop_share.get(x['NUTS_ID']), axis=1)"
   ]
  },
  {
   "cell_type": "code",
   "execution_count": null,
   "id": "26c29533",
   "metadata": {},
   "outputs": [],
   "source": [
    "gdf"
   ]
  },
  {
   "cell_type": "markdown",
   "id": "7e566087",
   "metadata": {},
   "source": [
    "### Population and polutation share"
   ]
  },
  {
   "cell_type": "code",
   "execution_count": null,
   "id": "d2637b24",
   "metadata": {},
   "outputs": [],
   "source": [
    "matplotlib.rcParams.update({'font.size': 30})\n",
    "\n",
    "fig = plt.figure(figsize=(20, 20))\n",
    "gs = fig.add_gridspec(1, 2, wspace=0, hspace=0)\n",
    "\n",
    "#=======================================================================================\n",
    "# Population \n",
    "ax1 = plt.subplot(gs[:, :1])\n",
    "\n",
    "vmin, vmax = min(gdf['POP']), max(gdf['POP'])\n",
    "gdf.plot(column='POP', cmap='Blues', linewidth=0.8, ax=ax1, edgecolor='0.8')\n",
    "ax1.axis('off')\n",
    "\n",
    "ax1.set_title(f'Population', fontweight=\"bold\", fontsize=30)\n",
    "\n",
    "sm = plt.cm.ScalarMappable(cmap='Blues', norm=plt.Normalize(vmin=vmin, vmax=vmax))\n",
    "sm._A = []\n",
    "cbar = fig.colorbar(sm, orientation='horizontal', shrink=0.8, pad=0);\n",
    "cbar.ax.tick_params(labelsize=30)\n",
    "#=======================================================================================\n",
    "# population share \n",
    "\n",
    "ax2 = plt.subplot(gs[:, 1:])\n",
    "\n",
    "vmin, vmax = min(gdf['POP_SHARE']), max(gdf['POP_SHARE'])\n",
    "gdf.plot(column='POP_SHARE', cmap='Blues', linewidth=0.8, ax=ax2, edgecolor='0.8')\n",
    "ax2.axis('off')\n",
    "\n",
    "ax2.set_title(f'Population share', fontweight=\"bold\", fontsize=30)\n",
    "\n",
    "sm = plt.cm.ScalarMappable(cmap='Blues', norm=plt.Normalize(vmin=vmin, vmax=vmax))\n",
    "sm._A = []\n",
    "cbar = fig.colorbar(sm, orientation='horizontal', shrink=0.8, pad=0);\n",
    "cbar.ax.tick_params(labelsize=30)\n",
    "\n",
    "plt.tight_layout()\n",
    "\n",
    "#save figure \n",
    "fig_name = f'DE_population'\n",
    "\n",
    "plt.savefig(fname=f'{os.path.join(OUTPUT_PATH, fig_name)}.png', format='png', bbox_inches=\"tight\", dpi=200)    "
   ]
  },
  {
   "cell_type": "markdown",
   "id": "652ac9a6",
   "metadata": {},
   "source": [
    "### Disaggregated 2020, 2015"
   ]
  },
  {
   "cell_type": "code",
   "execution_count": null,
   "id": "141c9499",
   "metadata": {},
   "outputs": [],
   "source": [
    "EUCALC_PATH = os.path.join(cwd, \"../../data/output/\")\n",
    "\n",
    "disagg_data = pd.read_csv(os.path.join(EUCALC_PATH, 'disaggregated_data_DE.csv'))"
   ]
  },
  {
   "cell_type": "code",
   "execution_count": null,
   "id": "580f3efa",
   "metadata": {},
   "outputs": [],
   "source": [
    "disagg_data"
   ]
  },
  {
   "cell_type": "code",
   "execution_count": null,
   "id": "977d6f54",
   "metadata": {},
   "outputs": [],
   "source": [
    "vars = disagg_data.variable.unique()"
   ]
  },
  {
   "cell_type": "code",
   "execution_count": null,
   "id": "1812227e",
   "metadata": {},
   "outputs": [],
   "source": [
    "var_0_list  = []\n",
    "for var in vars:\n",
    "    df = disagg_data.loc[disagg_data['variable'] == var].drop(columns=['variable', 'title', 'region'])\n",
    "    if (df.values == 0).all() or (df.isnull().values.all()):\n",
    "        var_0_list.append(var)"
   ]
  },
  {
   "cell_type": "code",
   "execution_count": null,
   "id": "09c44a92",
   "metadata": {},
   "outputs": [],
   "source": [
    "valid_vars = set(vars) - set(var_0_list)"
   ]
  },
  {
   "cell_type": "code",
   "execution_count": null,
   "id": "fcee3f78",
   "metadata": {},
   "outputs": [],
   "source": [
    "valid_vars"
   ]
  },
  {
   "cell_type": "code",
   "execution_count": null,
   "id": "d66568cc",
   "metadata": {},
   "outputs": [],
   "source": [
    "matplotlib.rcParams.update({'font.size': 15})"
   ]
  },
  {
   "cell_type": "code",
   "execution_count": null,
   "id": "119e0897",
   "metadata": {},
   "outputs": [],
   "source": [
    "\n",
    "for var in valid_vars:\n",
    "\n",
    "    fig = plt.figure()\n",
    "    ax = fig.add_axes([0,0,1,1])\n",
    "\n",
    "    data = disagg_data.loc[disagg_data['variable'] == var].drop(columns=['variable', 'title', 'region']).sum()\n",
    "\n",
    "    ax.bar(data.index, data.values, color='b', width=0.6)\n",
    "    \n",
    "    var_name, unit = var.split('[')\n",
    "    ax.set_ylabel(unit[:-1])\n",
    "\n",
    "    #save figure \n",
    "    fig_name = f'DE_{var_name}' # % is a special char in latex, so such chars must be removeed \n",
    "\n",
    "    plt.savefig(fname=f'{os.path.join(OUTPUT_PATH, fig_name)}.png', format='png', bbox_inches=\"tight\", dpi=200)    "
   ]
  },
  {
   "cell_type": "code",
   "execution_count": null,
   "id": "1688a51c",
   "metadata": {},
   "outputs": [],
   "source": [
    "matplotlib.rcParams.update({'font.size': 15})\n",
    "for var in list(valid_vars):\n",
    "    fig, ax = plt.subplots(nrows=1, \n",
    "                       ncols=2, \n",
    "                       gridspec_kw={'hspace': 0, 'wspace': 0}, # spacing between the grid figs \n",
    "                       figsize=(15, 15))\n",
    "\n",
    "    data = disagg_data.loc[disagg_data['variable'] == var].drop(columns=['variable', 'title'])\n",
    "    data = gdf.merge(data, how='left', left_on='NUTS_ID', right_on='region')\n",
    "\n",
    "\n",
    "    vmin = data[['2020','2050']].min().min()\n",
    "    vmax = data[['2020','2050']].max().max()\n",
    "\n",
    "    #=======================================================================================\n",
    "    # Disaggregated values in 2020\n",
    "\n",
    "    data.plot(column='2020', vmin=vmin, vmax=vmax, cmap='Blues', ax=ax[0], edgecolor=\"face\", linewidth=0.8)\n",
    "    ax[0].axis('off')\n",
    "\n",
    "    ax[0].set_title('Year 2020', fontsize=20)\n",
    "    #=======================================================================================\n",
    "    # Disaggregated values in 2050\n",
    "\n",
    "    data.plot(column='2050', vmin=vmin, vmax=vmax, cmap='Blues', ax=ax[1], edgecolor=\"face\", linewidth=0.8)\n",
    "    ax[1].axis('off')\n",
    "\n",
    "    ax[1].set_title('Year 2050', fontsize=20)\n",
    "\n",
    "    sm = plt.cm.ScalarMappable(cmap='Blues', norm=plt.Normalize(vmin=vmin, vmax=vmax))\n",
    "    sm._A = []\n",
    "    cbar = fig.colorbar(sm, ax=[ax[0], ax[1]], orientation = 'horizontal', location='bottom', shrink=1, fraction=0.046, pad=0.04);\n",
    "    cbar.ax.set_ylabel(var.split('[')[1][:-1])\n",
    "\n",
    "\n",
    "    #save figure \n",
    "    var = var.split('[')[0]\n",
    "    fig_name = f'DE_disagg_{var}'\n",
    "\n",
    "    plt.savefig(fname=f'{os.path.join(OUTPUT_PATH, fig_name)}.png', format='png', bbox_inches=\"tight\", dpi=200)    "
   ]
  },
  {
   "cell_type": "markdown",
   "id": "96572edd",
   "metadata": {},
   "source": [
    "### Top 10% and bottom 10% regions"
   ]
  },
  {
   "cell_type": "code",
   "execution_count": null,
   "id": "127f10b5",
   "metadata": {},
   "outputs": [],
   "source": [
    "rc('text', usetex=True)"
   ]
  },
  {
   "cell_type": "code",
   "execution_count": null,
   "id": "f6a341b9",
   "metadata": {},
   "outputs": [],
   "source": [
    "n_regions = math.ceil(len(gdf) * 10/100)"
   ]
  },
  {
   "cell_type": "code",
   "execution_count": null,
   "id": "4922de64",
   "metadata": {},
   "outputs": [],
   "source": [
    "n_regions"
   ]
  },
  {
   "cell_type": "code",
   "execution_count": null,
   "id": "59541452",
   "metadata": {},
   "outputs": [],
   "source": [
    "for var in list(valid_vars):\n",
    "    fig, ax = plt.subplots(nrows=1, \n",
    "                       ncols=2, \n",
    "                       gridspec_kw={'hspace': 0, 'wspace': 0}, # spacing between the grid figs \n",
    "                       figsize=(15, 15))\n",
    "\n",
    "    data = disagg_data.loc[disagg_data['variable'] == var].drop(columns=['variable', 'title'])\n",
    "    data = gdf.merge(data, how='left', left_on='NUTS_ID', right_on='region')\n",
    "\n",
    "\n",
    "    #=======================================================================================\n",
    "    # Year 2020\n",
    "    # all \n",
    "    data.plot(color='white', ax=ax[0], edgecolor='0.8')\n",
    "\n",
    "    #top 10 percent\n",
    "    top_data = data[['region', '2020', 'geometry']].sort_values(by='2020')[:n_regions]\n",
    "    top_data.plot(color=\"#00FF78\", ax=ax[0], edgecolor='0.8')\n",
    "\n",
    "    #top 10 percent\n",
    "    bottom_data = data[['region', '2020', 'geometry']].sort_values(by='2020')[-n_regions:]\n",
    "    bottom_data.plot(color=\"#E56FFE\", ax=ax[0], edgecolor='0.8')\n",
    "\n",
    "    ax[0].axis('off')\n",
    "\n",
    "    ax[0].set_title('Year 2020', fontsize=20)\n",
    "\n",
    "#     # legend\n",
    "\n",
    "#     color_patch_list = []\n",
    "#     color_patch_list.append(mpatches.Patch(edgecolor=\"#00FF78\", \n",
    "#                                            facecolor=\"#00FF78\", \n",
    "#                                            label=r\"\\textbf{Top 10\\% regions}\"))\n",
    "#     for region in top_data.region:\n",
    "#         color_patch_list.append(mpatches.Patch(edgecolor=\"white\", \n",
    "#                                            facecolor=\"white\", \n",
    "#                                            label=gdf.loc[gdf['NUTS_ID'] == region, \"NUTS_NAME\"].iloc[0]\n",
    "#                                               ))\n",
    "\n",
    "#     color_patch_list.append(mpatches.Patch(edgecolor=\"#E56FFE\", \n",
    "#                                            facecolor=\"#E56FFE\", \n",
    "#                                            label=r\"\\textbf{Bottom 10\\% regions}\"))\n",
    "#     for region in bottom_data.region:\n",
    "#         color_patch_list.append(mpatches.Patch(edgecolor=\"white\", \n",
    "#                                            facecolor=\"white\", \n",
    "#                                            label=gdf.loc[gdf['NUTS_ID'] == region, \"NUTS_NAME\"].iloc[0]\n",
    "#                                               ))\n",
    "\n",
    "#     ax[0].legend(handles=color_patch_list, bbox_to_anchor=(0.5, 0.0), loc='upper center', ncol=2, fontsize=14)\n",
    "    # #=======================================================================================\n",
    "    # Year 2050\n",
    "    #all \n",
    "    data.plot(color='white', ax=ax[1], edgecolor='0.8')\n",
    "\n",
    "    #top 10 percent\n",
    "    top_data = data[['region', '2050', 'geometry']].sort_values(by='2050')[:n_regions]\n",
    "    top_data.plot(color=\"#00FF78\", ax=ax[1], edgecolor='0.8')\n",
    "\n",
    "    #top 10 percent\n",
    "    bottom_data = data[['region', '2050', 'geometry']].sort_values(by='2050')[-n_regions:]\n",
    "    bottom_data.plot(color=\"#E56FFE\", ax=ax[1], edgecolor='0.8')\n",
    "\n",
    "    ax[1].axis('off')\n",
    "\n",
    "    ax[1].set_title('Year 2050', fontsize=20)\n",
    "    \n",
    "     # legend\n",
    "    color_patch_list = []\n",
    "    color_patch_list.append(mpatches.Patch(edgecolor=\"#00FF78\", \n",
    "                                           facecolor=\"#00FF78\", \n",
    "                                           label=r\"\\textbf{Top 10\\% regions}\"))\n",
    "   \n",
    "    color_patch_list.append(mpatches.Patch(edgecolor=\"#E56FFE\", \n",
    "                                           facecolor=\"#E56FFE\", \n",
    "                                           label=r\"\\textbf{Bottom 10\\% regions}\"))\n",
    "\n",
    "    fig.legend(handles=color_patch_list, bbox_to_anchor=(0.5, 0.25), loc='upper center', ncol=2, fontsize=14)\n",
    "\n",
    "    # legend\n",
    "#     color_patch_list = []\n",
    "#     color_patch_list.append(mpatches.Patch(edgecolor=\"#00FF78\", \n",
    "#                                            facecolor=\"#00FF78\", \n",
    "#                                            label=r\"\\textbf{Top 10\\% regions}\"))\n",
    "#     for region in top_data.region:\n",
    "#         color_patch_list.append(mpatches.Patch(edgecolor=\"white\", \n",
    "#                                            facecolor=\"white\", \n",
    "#                                            label=gdf.loc[gdf['NUTS_ID'] == region, \"NUTS_NAME\"].iloc[0]\n",
    "#                                               ))\n",
    "\n",
    "#     color_patch_list.append(mpatches.Patch(edgecolor=\"#E56FFE\", \n",
    "#                                            facecolor=\"#E56FFE\", \n",
    "#                                            label=r\"\\textbf{Bottom 10\\% regions}\"))\n",
    "#     for region in bottom_data.region:\n",
    "#         color_patch_list.append(mpatches.Patch(edgecolor=\"white\", \n",
    "#                                            facecolor=\"white\", \n",
    "#                                            label=gdf.loc[gdf['NUTS_ID'] == region, \"NUTS_NAME\"].iloc[0]\n",
    "#                                               ))\n",
    "\n",
    "#     ax[1].legend(handles=color_patch_list, bbox_to_anchor=(0.5, 0.0), loc='upper center', ncol=2, fontsize=14)\n",
    "    \n",
    "    #save figure \n",
    "    var = var.split('[')[0]\n",
    "    fig_name = f'DE_TD_{var}'\n",
    "\n",
    "    plt.savefig(fname=f'{os.path.join(OUTPUT_PATH, fig_name)}.png', format='png', bbox_inches=\"tight\", dpi=200)    "
   ]
  },
  {
   "cell_type": "markdown",
   "id": "b201e4cd",
   "metadata": {},
   "source": [
    "### DFs for LATEX report"
   ]
  },
  {
   "cell_type": "code",
   "execution_count": null,
   "id": "db2f1349",
   "metadata": {},
   "outputs": [],
   "source": [
    "var_info = pd.read_csv(os.path.join(INPUT_PATH, 'eucalc_output_vars.csv'))"
   ]
  },
  {
   "cell_type": "code",
   "execution_count": null,
   "id": "2efc052b",
   "metadata": {},
   "outputs": [],
   "source": [
    "sector_full_names = {'agr': 'Agriculture', \n",
    "                    'bld': 'Buildings', \n",
    "                    'tra' : 'Transport', \n",
    "                    'elc': 'Electricity', \n",
    "                    'ccu': 'Carbon capture and use', \n",
    "                    'fos': 'Fossil', \n",
    "                    'ind': 'Industry', \n",
    "                    'lus': 'Land use', \n",
    "                    'min': 'Minerals', \n",
    "                    'str': 'Storage', \n",
    "                    'wat': 'Water', \n",
    "                    'air': 'Air polution',\n",
    "                    'amm': 'Ammonium', \n",
    "                    'bdy': 'bdy', \n",
    "                    'clm': 'clm', \n",
    "                    'clt': 'clt', \n",
    "                    'dhg': 'dhg',\n",
    "                    'gas': 'gas', \n",
    "                     'oal' : 'oal', \n",
    "                     'ear': 'ear', \n",
    "                     'ass': 'ass', \n",
    "                     'oil': 'oil', \n",
    "                     'ude': 'ude',\n",
    "                     #nan, \n",
    "                     'ter': 'Terrestrial', \n",
    "                     'bio': 'bio',\n",
    "                     'row': 'row', \n",
    "                     'ref': 'ref',  \n",
    "                     'emp': 'emp',  \n",
    "                     'gen': 'gen', \n",
    "                     'rod': 'rod', \n",
    "                     'lfs': 'lfs',\n",
    "                      'O2e': 'O2e'}"
   ]
  },
  {
   "cell_type": "code",
   "execution_count": null,
   "id": "efa27beb",
   "metadata": {},
   "outputs": [],
   "source": [
    "len(sector_full_names)"
   ]
  },
  {
   "cell_type": "code",
   "execution_count": null,
   "id": "c1736c1d",
   "metadata": {},
   "outputs": [],
   "source": [
    "var_info['sector_full_name'] = var_info.apply(lambda x: sector_full_names.get(x['sector']), axis=1)"
   ]
  },
  {
   "cell_type": "code",
   "execution_count": null,
   "id": "4da909c5",
   "metadata": {},
   "outputs": [],
   "source": [
    "var_info.metric.unique()"
   ]
  },
  {
   "cell_type": "code",
   "execution_count": null,
   "id": "de99ff06",
   "metadata": {},
   "outputs": [],
   "source": [
    "var_info.rename(columns={\"column\": \"var_name\", \"metric\": \"Variable Sub-category\", \"display_name\": 'Variable'}, inplace=True)"
   ]
  },
  {
   "cell_type": "code",
   "execution_count": null,
   "id": "009255a8",
   "metadata": {},
   "outputs": [],
   "source": [
    "var_info"
   ]
  },
  {
   "cell_type": "code",
   "execution_count": null,
   "id": "9ff55d72",
   "metadata": {},
   "outputs": [],
   "source": [
    "valid_sectors = []"
   ]
  },
  {
   "cell_type": "code",
   "execution_count": null,
   "id": "27e23318",
   "metadata": {},
   "outputs": [],
   "source": [
    "DATA_PATH = 'C:/Users/s.patil/Documents/code/spatial_disaggregation/reports/data/'\n",
    "\n",
    "# save different csv for each sector so it is easy to read in lATEX \n",
    "for sector in sector_full_names.values():\n",
    " #sector = 'Land use'    \n",
    "    data = var_info[['var_name', 'sector_full_name', 'Variable Sub-category', 'Variable']]\n",
    "\n",
    "\n",
    "    data = data.loc[data['sector_full_name'] == sector].drop(columns='sector_full_name')\n",
    "\n",
    "    # should be a valid var i.e., must be present in the data \n",
    "    data = data[data['var_name'].isin(valid_vars)]\n",
    "\n",
    "    if not data.empty:\n",
    "        \n",
    "        for index, row in data.iterrows():\n",
    "            # replace null display names with last part of the var names \n",
    "            if pd.isnull(row['Variable']):\n",
    "                data.loc[index,'Variable'] = row['var_name'].split('_')[-1].split('[')[0]\n",
    "            \n",
    "            # if variable category has nas, fill it with variable value \n",
    "            data['Variable Sub-category'].fillna(data['Variable'], inplace=True)\n",
    "        \n",
    "            # no commas allowed in csv files. so put the string after comma in brackets\n",
    "            if ',' in row['Variable']:\n",
    "\n",
    "                try:\n",
    "                    [val1, val2] = row['Variable'].split(', ')\n",
    "\n",
    "                    data.loc[index,'Variable'] = f'{val1} ({val2})'\n",
    "\n",
    "                except:\n",
    "                    data.loc[index,'Variable'] = ' '.join(row['Variable'].split(', '))\n",
    "\n",
    "             # remove units from columns \n",
    "            data.loc[index,'var_name'] = row['var_name'].split('[')[0]\n",
    "        \n",
    "        \n",
    "        \n",
    "        # sort categories \n",
    "        data.sort_values('Variable Sub-category', inplace=True)\n",
    "        \n",
    "        data_name = sector.replace(\" \", \"-\")\n",
    "        valid_sectors.append(data_name)\n",
    "        data.to_csv(os.path.join(DATA_PATH, f'{data_name}.csv'), index=False)"
   ]
  },
  {
   "cell_type": "code",
   "execution_count": null,
   "id": "391ef285",
   "metadata": {},
   "outputs": [],
   "source": [
    "valid_sectors"
   ]
  },
  {
   "cell_type": "code",
   "execution_count": null,
   "id": "7e67c77e",
   "metadata": {},
   "outputs": [],
   "source": [
    "dfs_path = r'C:\\Users\\s.patil\\Documents\\code\\spatial_disaggregation\\reports\\Data'"
   ]
  },
  {
   "cell_type": "code",
   "execution_count": null,
   "id": "96d617ce",
   "metadata": {},
   "outputs": [],
   "source": [
    "nl = '\\n'\n",
    "latex_nl = '\\\\\\\\'\n",
    "\n",
    "for valid_sector in valid_sectors:\n",
    "    df = pd.read_csv(os.path.join(dfs_path, f'{valid_sector}.csv'))\n",
    "    with open(os.path.join(r\"C:\\Users\\s.patil\\Documents\\code\\spatial_disaggregation\\reports\\Tables\", f'{valid_sector}.tex'), \"w\") as f:\n",
    "\n",
    "        f.write(f\"\\\\begin{{longtable}}{{|ll|}}{nl}\")\n",
    "\n",
    "        # table header\n",
    "        f.write(f\"\\\\toprule{nl}\")\n",
    "        f.write(f\"\\\\textbf{{Variable Sub-category}} & \\\\textbf{{Variable}}{latex_nl}{nl}\")\n",
    "        f.write(f\"\\\\toprule{nl}\")\n",
    "\n",
    "        for group, group_df in df.groupby(['Variable Sub-category']):\n",
    "\n",
    "            n_rows = len(group_df)\n",
    "            var_cat = group\n",
    "            first_var = group_df['Variable'].values[0]\n",
    "            rest_vars = group_df['Variable'].values[1:]\n",
    "\n",
    "            f.write(f\"\\\\multirow{{{n_rows}}}{{*}}{{{var_cat}}} & {first_var} {latex_nl}{nl}\")\n",
    "\n",
    "            if len(rest_vars) > 0:\n",
    "                for var in rest_vars:\n",
    "                    f.write(f\" & {var}{latex_nl}{nl}\")\n",
    "\n",
    "            if not var_cat == df['Variable Sub-category'].values[-1]:\n",
    "                f.write(f\"\\\\midrule{nl}\")\n",
    "\n",
    "        f.write(f\"\\\\bottomrule{nl}\")\n",
    "        f.write(f\"\\\\end{{longtable}}\")"
   ]
  },
  {
   "cell_type": "markdown",
   "id": "e435482e",
   "metadata": {},
   "source": [
    "## data quality figures "
   ]
  },
  {
   "cell_type": "code",
   "execution_count": null,
   "id": "4dcac6fd",
   "metadata": {},
   "outputs": [],
   "source": [
    "fig, ax = plt.subplots()\n",
    "ax.scatter(0.8, 2, s=5000, c='r', edgecolors='black')\n",
    "ax.scatter(1, 2, s=5000, c='yellow', edgecolors='black', alpha= 0.1)\n",
    "ax.scatter(1.2, 2, s=5000, c='g', edgecolors='black', alpha= 0.1)\n",
    "plt.xlim(0.6, 1.4)\n",
    "plt.ylim(1.95, 2.05)\n",
    "\n",
    "\n",
    "#ax.add_patch(Rectangle((2, 2.2), 0.2, 0.2, fill=None, alpha=1))\n",
    "ax.axis('off')\n",
    "fig.show()\n",
    "\n",
    "fig_name = f'data_status_red'\n",
    "\n",
    "plt.savefig(fname=f'{os.path.join(OUTPUT_PATH, fig_name)}.png', format='png', bbox_inches=\"tight\", dpi=200)    "
   ]
  },
  {
   "cell_type": "code",
   "execution_count": null,
   "id": "17aaf94d",
   "metadata": {},
   "outputs": [],
   "source": []
  }
 ],
 "metadata": {
  "language_info": {
   "name": "python"
  }
 },
 "nbformat": 4,
 "nbformat_minor": 5
}
