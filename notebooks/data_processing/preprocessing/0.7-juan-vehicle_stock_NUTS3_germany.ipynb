{
 "cells": [
  {
   "cell_type": "code",
   "execution_count": 1,
   "metadata": {},
   "outputs": [],
   "source": [
    "import os\n",
    "import pandas as pd\n",
    "import geopandas as gpd"
   ]
  },
  {
   "cell_type": "code",
   "execution_count": 2,
   "metadata": {},
   "outputs": [],
   "source": [
    "cwd = os.getcwd()\n",
    "\n",
    "DATA_PATH = os.path.join(cwd, '..', '..', '..', 'data', 'input')\n",
    "\n",
    "RAW_DATA_PATH = os.path.join(DATA_PATH, 'raw')\n",
    "PROCESSED_DATA_PATH = os.path.join(DATA_PATH, 'processed')"
   ]
  },
  {
   "cell_type": "code",
   "execution_count": 3,
   "metadata": {},
   "outputs": [],
   "source": [
    "def setup_nuts3_polygon() -> gpd.GeoDataFrame:\n",
    "    \"\"\"Get polygons geodataframe for Germany at NUTS3 territorial unit.\"\"\"\n",
    "    polygon_shp_path = os.path.join(\n",
    "        PROCESSED_DATA_PATH, \"shapefiles\", \"NUTS3.shp\"\n",
    "    )\n",
    "    polygon_gdf = gpd.read_file(polygon_shp_path)\n",
    "    polygon_gdf = polygon_gdf[polygon_gdf[\"prnt_code\"].str.contains(\"DE\")]\n",
    "    polygon_gdf.drop(\n",
    "        [\n",
    "            col\n",
    "            for col in polygon_gdf.columns\n",
    "            if \"geometry\" not in col and \"code\" not in col\n",
    "        ],\n",
    "        axis=1,\n",
    "        inplace=True,\n",
    "    )\n",
    "    polygon_gdf.drop(\n",
    "        [col for col in polygon_gdf.columns if col.startswith(\"prnt\")],\n",
    "        axis=1,\n",
    "        inplace=True,\n",
    "    )\n",
    "    polygon_gdf.rename(columns={\"code\": \"NUTS3_region_code\"}, inplace=True)\n",
    "    polygon_gdf.reset_index(drop=True, inplace=True)\n",
    "    return polygon_gdf\n",
    "    "
   ]
  },
  {
   "cell_type": "code",
   "execution_count": 4,
   "metadata": {},
   "outputs": [],
   "source": [
    "def setup_nuts_postalcodes():\n",
    "    \"\"\"Get pandas dataframe for postal codes of 2020 for each country\"\"\"\n",
    "    postal_codes_nuts_path = os.path.join(\n",
    "        PROCESSED_DATA_PATH, \"pc2020_DE_NUTS-2021_v4.0\", \"pc2020_DE_NUTS-2021_v4.0.csv\"\n",
    "    )\n",
    "    postal_codes_pd = pd.read_csv(postal_codes_nuts_path)\n",
    "    postal_codes_pd.rename(columns={\"CODE\": \"Postcode_municipality\"}, inplace=True)\n",
    "    return postal_codes_pd"
   ]
  },
  {
   "cell_type": "code",
   "execution_count": 5,
   "metadata": {},
   "outputs": [],
   "source": [
    "def setup_vehicle_stock():\n",
    "    \"\"\"Get pandas dataframe for vehicle stcok for 2022 for each country\"\"\"\n",
    "    vehicle_stock_path = os.path.join(\n",
    "        RAW_DATA_PATH, 'Vehicle_Stock', 'countries', 'DE', \n",
    "        'Federal_Motor_Transport_Authority_KBA_Kraftfahrt_Bundesamt_KBA', \n",
    "        \"number_of_vehicles_DE_2022_filtered_4.xlsx\"  \n",
    "    )\n",
    "    vehicle_stock_pd = pd.read_excel(vehicle_stock_path)\n",
    "    return vehicle_stock_pd"
   ]
  },
  {
   "cell_type": "code",
   "execution_count": 6,
   "metadata": {},
   "outputs": [],
   "source": [
    "def join_vehicle_stock_by_postal_codes_and_nuts3():\n",
    "    \"\"\"Join vehicle stock distributed by postal code with nuts3 data.\"\"\"\n",
    "    setup_vehicle_stock_pd = setup_vehicle_stock()\n",
    "    postal_codes_pd = setup_nuts_postalcodes()\n",
    "    vehicle_stock_nuts3_destination = os.path.join(\n",
    "        PROCESSED_DATA_PATH, 'Vehicle_Stock', 'countries', 'DE', \n",
    "        \"vehicle_stock_by_NUTS3_df.csv\"  \n",
    "    )\n",
    "    if not os.path.exists(vehicle_stock_nuts3_destination):\n",
    "        vehicle_stock_pd = setup_vehicle_stock_pd.fillna(method='ffill')\n",
    "        join_df = vehicle_stock_pd.set_index('Postcode_municipality').join(postal_codes_pd.set_index('Postcode_municipality'))\n",
    "        print(join_df.head())\n",
    "        join_df.reset_index(level=0, inplace=True)\n",
    "        join_df.drop(\n",
    "        [\n",
    "        col\n",
    "        for col in join_df.columns\n",
    "        if \"Motorcylces\" not in col and \"Agricultural Tractors\" not in col\n",
    "        and \"Buses\" not in col and \"Passenger Vehicles\" not in col \n",
    "        and \"Motor Vehicles Other\" not in col and \"Motor Vehicles Total\" not in col \n",
    "        and \"Load Force Wagons\" not in col and \"Trailers Other\" not in col \n",
    "        and \"Trailers Total\" not in col and \"NUTS3_region_code\" not in col\n",
    "        ],\n",
    "        axis=1,\n",
    "        inplace=True,\n",
    "        )\n",
    "        # Errase all rows for column NUTS3 that has NaN values\n",
    "        df = join_df.dropna(subset=['NUTS3'])\n",
    "        # goup all rows by the same NUTS3 value applying each row sum\n",
    "        vehicle_stock_nuts3_df = df.groupby(['NUTS3_region_code']).sum()\n",
    "        vehicle_stock_nuts3_df.reset_index(drop=True, inplace=True)\n",
    "        vehicle_stock_nuts3_df.to_csv(vehicle_stock_nuts3_destination)\n",
    "    else:\n",
    "        vehicle_stock_nuts3_df = pd.read_csv(vehicle_stock_nuts3_destination)\n",
    "        vehicle_stock_nuts3_df.reset_index(drop=True, inplace=True)\n",
    "        vehicle_stock_nuts3_df.drop(\n",
    "        [\n",
    "        col\n",
    "        for col in vehicle_stock_nuts3_df.columns\n",
    "        if \"NUTS3_region_code\" not in col and \"Motorcylces\" not in col \n",
    "        and \"Agricultural Tractors\" not in col and \"Buses\" not in col \n",
    "        and \"Passenger Vehicles\" not in col and \"Motor Vehicles Other\" not in col \n",
    "        and \"Motor Vehicles Total\" not in col and \"Load Force Wagons\" not in col \n",
    "        and \"Trailers Other\" not in col and \"Trailers Total\" not in col \n",
    "        ],\n",
    "        axis=1,\n",
    "        inplace=True,\n",
    "        )\n",
    "        return vehicle_stock_nuts3_df"
   ]
  },
  {
   "cell_type": "code",
   "execution_count": 7,
   "metadata": {},
   "outputs": [],
   "source": [
    "def join_nuts3_polygn_gdf():\n",
    "    \"\"\"Join vehicle stock distributed by nuts3 data with polygon data.\"\"\"\n",
    "    vehicle_stock_gdf_nuts3_destination = os.path.join(\n",
    "        PROCESSED_DATA_PATH, 'Vehicle_Stock', 'countries', 'DE', \n",
    "        \"vehicle_stock_by_NUTS3_gdf.csv\"  \n",
    "    )\n",
    "    vehicle_stock_nuts3_df = join_vehicle_stock_by_postal_codes_and_nuts3()\n",
    "    polygon_gdf = setup_nuts3_polygon()\n",
    "    vehicle_stock_nuts3_gdf = vehicle_stock_nuts3_df.merge(polygon_gdf, how='inner', on='NUTS3_region_code')\n",
    "    vehicle_stock_nuts3_gdf.reset_index(drop=True, inplace=True)\n",
    "    vehicle_stock_nuts3_gdf.to_csv(vehicle_stock_gdf_nuts3_destination)  \n",
    "    return vehicle_stock_nuts3_gdf"
   ]
  },
  {
   "cell_type": "code",
   "execution_count": 8,
   "metadata": {},
   "outputs": [
    {
     "name": "stdout",
     "output_type": "stream",
     "text": [
      "                          Land   Registration district  \\\n",
      "Postcode_municipality                                    \n",
      "1067                   SACHSEN  DRESDEN, STADT (14612)   \n",
      "1445                   SACHSEN         MEISSEN (14627)   \n",
      "1454                   SACHSEN         BAUTZEN (14625)   \n",
      "1454                   SACHSEN         BAUTZEN (14625)   \n",
      "1458                   SACHSEN         BAUTZEN (14625)   \n",
      "\n",
      "                                         City  Motorcylces  \\\n",
      "Postcode_municipality                                        \n",
      "1067                       DRESDEN, STADT            16760   \n",
      "1445                      RADEBEUL, STADT             1635   \n",
      "1454                      RADEBERG, STADT              844   \n",
      "1454                              WACHAU               289   \n",
      "1458                   OTTENDORF-OKRILLA               656   \n",
      "\n",
      "                       Agricultural Tractors  Buses  Passenger Vehicles  \\\n",
      "Postcode_municipality                                                     \n",
      "1067                                     926   2036              232009   \n",
      "1445                                     170     85               19193   \n",
      "1454                                     155     56               11119   \n",
      "1454                                     151     22                2849   \n",
      "1458                                      82     51                6502   \n",
      "\n",
      "                        Motor Vehicles Other   Motor Vehicles Total  \\\n",
      "Postcode_municipality                                                 \n",
      "1067                                   40253                 272262   \n",
      "1445                                    3730                  22923   \n",
      "1454                                    1834                  12953   \n",
      "1454                                     726                   3575   \n",
      "1458                                    1709                   8211   \n",
      "\n",
      "                       Load Force Wagons   Trailers Other  Trailers Total  \\\n",
      "Postcode_municipality                                                       \n",
      "1067                               20039             3056           23095   \n",
      "1445                                1755             1404            3159   \n",
      "1454                                 760             1084            1844   \n",
      "1454                                 233              466             699   \n",
      "1458                                 832              771            1603   \n",
      "\n",
      "                       NUTS3  \n",
      "Postcode_municipality         \n",
      "1067                   DED21  \n",
      "1445                   DED2E  \n",
      "1454                   DED2C  \n",
      "1454                   DED2C  \n",
      "1458                   DED2C  \n"
     ]
    },
    {
     "ename": "KeyError",
     "evalue": "['NUTS3_region_code']",
     "output_type": "error",
     "traceback": [
      "\u001b[1;31m---------------------------------------------------------------------------\u001b[0m",
      "\u001b[1;31mKeyError\u001b[0m                                  Traceback (most recent call last)",
      "Cell \u001b[1;32mIn[8], line 1\u001b[0m\n\u001b[1;32m----> 1\u001b[0m vehicle_stock_nuts3_gdf \u001b[39m=\u001b[39m join_nuts3_polygn_gdf()\n\u001b[0;32m      2\u001b[0m vehicle_stock_nuts3_gdf\u001b[39m.\u001b[39msample(\u001b[39m30\u001b[39m)\n",
      "Cell \u001b[1;32mIn[7], line 7\u001b[0m, in \u001b[0;36mjoin_nuts3_polygn_gdf\u001b[1;34m()\u001b[0m\n\u001b[0;32m      2\u001b[0m \u001b[39m\u001b[39m\u001b[39m\"\"\"Join vehicle stock distributed by nuts3 data with polygon data.\"\"\"\u001b[39;00m\n\u001b[0;32m      3\u001b[0m vehicle_stock_gdf_nuts3_destination \u001b[39m=\u001b[39m os\u001b[39m.\u001b[39mpath\u001b[39m.\u001b[39mjoin(\n\u001b[0;32m      4\u001b[0m     PROCESSED_DATA_PATH, \u001b[39m'\u001b[39m\u001b[39mVehicle_Stock\u001b[39m\u001b[39m'\u001b[39m, \u001b[39m'\u001b[39m\u001b[39mcountries\u001b[39m\u001b[39m'\u001b[39m, \u001b[39m'\u001b[39m\u001b[39mDE\u001b[39m\u001b[39m'\u001b[39m, \n\u001b[0;32m      5\u001b[0m     \u001b[39m\"\u001b[39m\u001b[39mvehicle_stock_by_NUTS3_gdf.csv\u001b[39m\u001b[39m\"\u001b[39m  \n\u001b[0;32m      6\u001b[0m )\n\u001b[1;32m----> 7\u001b[0m vehicle_stock_nuts3_df \u001b[39m=\u001b[39m join_vehicle_stock_by_postal_codes_and_nuts3()\n\u001b[0;32m      8\u001b[0m polygon_gdf \u001b[39m=\u001b[39m setup_nuts3_polygon()\n\u001b[0;32m      9\u001b[0m vehicle_stock_nuts3_gdf \u001b[39m=\u001b[39m vehicle_stock_nuts3_df\u001b[39m.\u001b[39mmerge(polygon_gdf, how\u001b[39m=\u001b[39m\u001b[39m'\u001b[39m\u001b[39minner\u001b[39m\u001b[39m'\u001b[39m, on\u001b[39m=\u001b[39m\u001b[39m'\u001b[39m\u001b[39mNUTS3_region_code\u001b[39m\u001b[39m'\u001b[39m)\n",
      "Cell \u001b[1;32mIn[6], line 28\u001b[0m, in \u001b[0;36mjoin_vehicle_stock_by_postal_codes_and_nuts3\u001b[1;34m()\u001b[0m\n\u001b[0;32m     14\u001b[0m join_df\u001b[39m.\u001b[39mdrop(\n\u001b[0;32m     15\u001b[0m [\n\u001b[0;32m     16\u001b[0m col\n\u001b[1;32m   (...)\u001b[0m\n\u001b[0;32m     25\u001b[0m inplace\u001b[39m=\u001b[39m\u001b[39mTrue\u001b[39;00m,\n\u001b[0;32m     26\u001b[0m )\n\u001b[0;32m     27\u001b[0m \u001b[39m# Errase all rows for column NUTS3 that has NaN values\u001b[39;00m\n\u001b[1;32m---> 28\u001b[0m df \u001b[39m=\u001b[39m join_df\u001b[39m.\u001b[39;49mdropna(subset\u001b[39m=\u001b[39;49m[\u001b[39m'\u001b[39;49m\u001b[39mNUTS3_region_code\u001b[39;49m\u001b[39m'\u001b[39;49m])\n\u001b[0;32m     29\u001b[0m \u001b[39m# goup all rows by the same NUTS3 value applying each row sum\u001b[39;00m\n\u001b[0;32m     30\u001b[0m vehicle_stock_nuts3_df \u001b[39m=\u001b[39m df\u001b[39m.\u001b[39mgroupby([\u001b[39m'\u001b[39m\u001b[39mNUTS3_region_code\u001b[39m\u001b[39m'\u001b[39m])\u001b[39m.\u001b[39msum()\n",
      "File \u001b[1;32mc:\\Users\\rofer\\anaconda3\\envs\\Thesis\\lib\\site-packages\\pandas\\util\\_decorators.py:331\u001b[0m, in \u001b[0;36mdeprecate_nonkeyword_arguments.<locals>.decorate.<locals>.wrapper\u001b[1;34m(*args, **kwargs)\u001b[0m\n\u001b[0;32m    325\u001b[0m \u001b[39mif\u001b[39;00m \u001b[39mlen\u001b[39m(args) \u001b[39m>\u001b[39m num_allow_args:\n\u001b[0;32m    326\u001b[0m     warnings\u001b[39m.\u001b[39mwarn(\n\u001b[0;32m    327\u001b[0m         msg\u001b[39m.\u001b[39mformat(arguments\u001b[39m=\u001b[39m_format_argument_list(allow_args)),\n\u001b[0;32m    328\u001b[0m         \u001b[39mFutureWarning\u001b[39;00m,\n\u001b[0;32m    329\u001b[0m         stacklevel\u001b[39m=\u001b[39mfind_stack_level(),\n\u001b[0;32m    330\u001b[0m     )\n\u001b[1;32m--> 331\u001b[0m \u001b[39mreturn\u001b[39;00m func(\u001b[39m*\u001b[39margs, \u001b[39m*\u001b[39m\u001b[39m*\u001b[39mkwargs)\n",
      "File \u001b[1;32mc:\\Users\\rofer\\anaconda3\\envs\\Thesis\\lib\\site-packages\\pandas\\core\\frame.py:6558\u001b[0m, in \u001b[0;36mDataFrame.dropna\u001b[1;34m(self, axis, how, thresh, subset, inplace)\u001b[0m\n\u001b[0;32m   6556\u001b[0m     check \u001b[39m=\u001b[39m indices \u001b[39m==\u001b[39m \u001b[39m-\u001b[39m\u001b[39m1\u001b[39m\n\u001b[0;32m   6557\u001b[0m     \u001b[39mif\u001b[39;00m check\u001b[39m.\u001b[39many():\n\u001b[1;32m-> 6558\u001b[0m         \u001b[39mraise\u001b[39;00m \u001b[39mKeyError\u001b[39;00m(np\u001b[39m.\u001b[39marray(subset)[check]\u001b[39m.\u001b[39mtolist())\n\u001b[0;32m   6559\u001b[0m     agg_obj \u001b[39m=\u001b[39m \u001b[39mself\u001b[39m\u001b[39m.\u001b[39mtake(indices, axis\u001b[39m=\u001b[39magg_axis)\n\u001b[0;32m   6561\u001b[0m \u001b[39mif\u001b[39;00m thresh \u001b[39mis\u001b[39;00m \u001b[39mnot\u001b[39;00m no_default:\n",
      "\u001b[1;31mKeyError\u001b[0m: ['NUTS3_region_code']"
     ]
    }
   ],
   "source": [
    "vehicle_stock_nuts3_gdf = join_nuts3_polygn_gdf()\n",
    "vehicle_stock_nuts3_gdf.sample(30)"
   ]
  }
 ],
 "metadata": {
  "kernelspec": {
   "display_name": "Thesis",
   "language": "python",
   "name": "python3"
  },
  "language_info": {
   "codemirror_mode": {
    "name": "ipython",
    "version": 3
   },
   "file_extension": ".py",
   "mimetype": "text/x-python",
   "name": "python",
   "nbconvert_exporter": "python",
   "pygments_lexer": "ipython3",
   "version": "3.10.9 | packaged by conda-forge | (main, Jan 11 2023, 15:15:40) [MSC v.1916 64 bit (AMD64)]"
  },
  "orig_nbformat": 4,
  "vscode": {
   "interpreter": {
    "hash": "3cce2b1fd713457c708c12f138c5d9dc7fb720a2742758859ec4f2ed81771da0"
   }
  }
 },
 "nbformat": 4,
 "nbformat_minor": 2
}
