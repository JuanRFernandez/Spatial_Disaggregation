{
 "cells": [
  {
   "cell_type": "code",
   "execution_count": 1,
   "metadata": {},
   "outputs": [],
   "source": [
    "from zoomin.data.osmtags import stations_tags_dict\n",
    "from zoomin.data.constants import countries_dict\n",
    "from zoomin.data import osm_stations_processing\n",
    "from typing import Any\n",
    "from shapely import wkt\n",
    "from zoomin.data.osm_stations_processing import count_point_on_polygon, count_point_on_polygon_eu\n",
    "import os\n",
    "import pandas as pd\n",
    "import geopandas as gpd\n",
    "import osmnx as ox\n",
    "import plotly.express as px\n",
    "import matplotlib.pyplot as plt\n",
    "from mpl_toolkits.axes_grid1 import make_axes_locatable"
   ]
  },
  {
   "cell_type": "code",
   "execution_count": null,
   "metadata": {},
   "outputs": [],
   "source": [
    "cwd = os.getcwd()\n",
    "DATA_PATH = os.path.join(cwd, '..', '..', '..', 'data', 'input')\n",
    "RAW_DATA_PATH = os.path.join(DATA_PATH, 'raw')\n",
    "PROCESSED_DATA_PATH = os.path.join(DATA_PATH, 'processed')"
   ]
  },
  {
   "cell_type": "code",
   "execution_count": null,
   "metadata": {},
   "outputs": [],
   "source": [
    "def setup_polygon_for_point(territorial_unit: Any, country_tag: str) -> gpd.GeoDataFrame:\n",
    "    \"\"\"Get polygons geodataframe for each country at a territoriial unit.\"\"\"\n",
    "    polygon_shp_path = os.path.join(\n",
    "        PROCESSED_DATA_PATH, \"shapefiles\", f\"{territorial_unit}.shp\"\n",
    "    )\n",
    "    polygon_gdf = gpd.read_file(polygon_shp_path, converters={'region_code': str})\n",
    "    polygon_gdf = polygon_gdf[polygon_gdf[\"prnt_code\"].str.contains(f\"{country_tag}\")]\n",
    "    polygon_gdf.drop(\n",
    "        [\n",
    "            col\n",
    "            for col in polygon_gdf.columns\n",
    "            if \"geometry\" not in col and \"code\" not in col\n",
    "        ],\n",
    "        axis=1,\n",
    "        inplace=True,\n",
    "    )\n",
    "    polygon_gdf.drop(\n",
    "        [col for col in polygon_gdf.columns if col.startswith(\"prnt\")],\n",
    "        axis=1,\n",
    "        inplace=True,\n",
    "    )\n",
    "    polygon_gdf.rename(columns={\"code\": \"region_code\"}, inplace=True)\n",
    "    polygon_gdf.reset_index(drop=True, inplace=True)\n",
    "    print(f'The number of polygon at {territorial_unit} levelfor {country_tag} are: ', len(polygon_gdf))\n",
    "    return polygon_gdf"
   ]
  },
  {
   "cell_type": "code",
   "execution_count": null,
   "metadata": {},
   "outputs": [],
   "source": [
    "def get_point(component_name: str, territorial_unit: Any, country_tag: str) -> pd.DataFrame:\n",
    "    \n",
    "    \"\"\"Get point geodataframe for each component_name in each country at a territoriial unit.\"\"\"\n",
    "    point_df_path_source = os.path.join(\n",
    "        PROCESSED_DATA_PATH,\n",
    "        \"osm_data\",\n",
    "        \"countries\",\n",
    "        f\"{country_tag}\",\n",
    "        f\"{component_name}_OverlapDf_{territorial_unit}.csv\",\n",
    "    )\n",
    "    if os.path.exists(point_df_path_source):\n",
    "        point_df = pd.read_csv(point_df_path_source, converters={'region_code': str})\n",
    "        point_df.drop(\n",
    "        [\n",
    "            col\n",
    "            for col in point_df.columns\n",
    "            if \"region_code\" not in col and \"value\" not in col\n",
    "        ],\n",
    "        axis=1,\n",
    "        inplace=True,\n",
    "    )\n",
    "    print(\n",
    "        f'The total number of \"{component_name}\" in \"{country_tag}\" are: ',\n",
    "        len(point_df),\n",
    "    )\n",
    "    return point_df\n",
    "    "
   ]
  },
  {
   "cell_type": "code",
   "execution_count": null,
   "metadata": {},
   "outputs": [],
   "source": [
    "def merge_polygon_point(component_name,  territorial_unit, country_tag):\n",
    "    \n",
    "    \"\"\"Overlap gridded data with polygon data.\"\"\"\n",
    "    overlap_gdf_path_destination = os.path.join(\n",
    "        PROCESSED_DATA_PATH,\n",
    "        \"osm_data\",\n",
    "        \"countries\",\n",
    "        f\"{country_tag}\",\n",
    "        f\"{component_name}_MergedGdf_{territorial_unit}.csv\",\n",
    "    )\n",
    "    if not os.path.exists(overlap_gdf_path_destination):\n",
    "        polygon_gdf = setup_polygon_for_point(territorial_unit, country_tag)\n",
    "        if polygon_gdf.crs != 4326:\n",
    "                polygon_gdf = polygon_gdf.to_crs(epsg=4326)\n",
    "        point_df = get_point(component_name, territorial_unit, country_tag)\n",
    "        # joining the geodataframe with the cleaned up csv dataframe\n",
    "        merged_gdf = polygon_gdf.set_index('region_code').join(point_df.set_index('region_code'))\n",
    "        print(\n",
    "            f'The total number of \"{component_name}\" merged points in \"{country_tag}\" are: ',\n",
    "            len(merged_gdf),\n",
    "        )\n",
    "        # replace nan values woth zero\n",
    "        merged_gdf[\"value\"] = merged_gdf[\"value\"].fillna(0)\n",
    "        #.head() returns the top 5(by default ) lines of the dataframe\n",
    "        # merged_gdf.to_csv(overlap_gdf_path_destination)\n",
    "        merged_gdf.sample(5)\n",
    "    else:\n",
    "        merged_df = pd.read_csv(overlap_gdf_path_destination, converters={'region_code': str})\n",
    "        merged_df[\"geometry\"] = gpd.GeoSeries.from_wkt(merged_df[\"geometry\"])\n",
    "        merged_gdf = gpd.GeoDataFrame(merged_df, geometry=\"geometry\")\n",
    "    return merged_gdf\n",
    "    "
   ]
  },
  {
   "cell_type": "code",
   "execution_count": null,
   "metadata": {},
   "outputs": [],
   "source": [
    "def heat_map_plotting(component_name, territorial_unit, country_tag):\n",
    "    \n",
    "    # https://www.geeksforgeeks.org/plotting-geospatial-data-using-geopandas/\n",
    "    merged_gdf = merge_polygon_point(component_name,  territorial_unit, country_tag)\n",
    "    fig, ax = plt.subplots(1, figsize =(16, 12),\n",
    "                        facecolor ='lightblue')\n",
    "    \n",
    "    merged_gdf.plot(ax = ax, color ='black')\n",
    "    merged_gdf.plot(ax = ax, column ='value', cmap ='Reds',\n",
    "            edgecolors ='grey')\n",
    "    \n",
    "    # axis for the color bar\n",
    "    div = make_axes_locatable(ax)\n",
    "    cax = div.append_axes(\"right\", size =\"2 %\", pad = 0.05)\n",
    "    \n",
    "    # color bar\n",
    "    vmax = merged_gdf.value.max()\n",
    "    mappable = plt.cm.ScalarMappable(cmap ='Reds',\n",
    "                                    norm = plt.Normalize(vmin = 0, vmax = vmax))\n",
    "    cbar = fig.colorbar(mappable, cax)\n",
    "\n",
    "    plt.title(f\"{component_name} - {country_tag} - {territorial_unit} level\", loc='right', fontweight='bold')  \n",
    "    ax.axis('off')\n",
    "    return plt.show()"
   ]
  },
  {
   "cell_type": "code",
   "execution_count": null,
   "metadata": {},
   "outputs": [],
   "source": [
    "territorial_unit = input(\n",
    "        'Please enter a character from: LAU, NUTS3, NUTS2, NUTS1, NUTS0, Europe')"
   ]
  },
  {
   "cell_type": "code",
   "execution_count": null,
   "metadata": {},
   "outputs": [],
   "source": [
    "# for component_name in stations_tags_dict.keys():\n",
    "#         print(component_name)\n",
    "#         country_name_list = []\n",
    "#         merged_list = []\n",
    "#         for country_name, country_tag in countries_dict.items():\n",
    "#             point_df_path_source = os.path.join(\n",
    "#                 PROCESSED_DATA_PATH,\n",
    "#                 \"osm_data\",\n",
    "#                 \"countries\",\n",
    "#                 f\"{country_tag}\",\n",
    "#                 f\"{component_name}_OverlapDf_{territorial_unit}.csv\",\n",
    "#             )\n",
    "#             if os.path.exists(point_df_path_source):\n",
    "#                 # destination_path = os.path.join(\n",
    "#                 # PROCESSED_DATA_PATH,\n",
    "#                 # \"osm_data\",\n",
    "#                 # \"countries\",\n",
    "#                 # \"plotting\",\n",
    "#                 # f\"{component_name}_eu_level.csv\",\n",
    "#                 # )\n",
    "#                 # merged_gdf = merge_polygon_point(component_name,  territorial_unit, country_tag)\n",
    "#                 # number_of_stations = merged_gdf[\"value\"].sum()\n",
    "#                 # merged_list.append(number_of_stations)\n",
    "#                 # country_name_list.append(country_tag)\n",
    "#                 plot = heat_map_plotting(component_name, territorial_unit, country_tag)\n",
    "#         # eu_merged = pd.DataFrame(list(zip(country_name_list, merged_list)), columns=[\"country_tag\", f\"{component_name} value\"])\n",
    "#         # print(eu_merged.head())\n",
    "#         # eu_merged.to_csv(destination_path)\n",
    "# # merge_polygon_point(component_name,  territorial_unit, country_tag).head(10)"
   ]
  },
  {
   "cell_type": "code",
   "execution_count": null,
   "metadata": {},
   "outputs": [],
   "source": [
    "for component_name in stations_tags_dict.keys():\n",
    "        print(component_name)\n",
    "        country_name_list = []\n",
    "        merged_list = []\n",
    "        for country_name, country_tag in countries_dict.items():\n",
    "            point_df_path_source = os.path.join(\n",
    "                PROCESSED_DATA_PATH,\n",
    "                \"osm_data\",\n",
    "                \"countries\",\n",
    "                f\"{country_tag}\",\n",
    "                f\"{component_name}_OverlapDf_{territorial_unit}.csv\",\n",
    "            )\n",
    "            if os.path.exists(point_df_path_source):\n",
    "                destination_path = os.path.join(\n",
    "                PROCESSED_DATA_PATH,\n",
    "                \"osm_data\",\n",
    "                \"countries\",\n",
    "                \"plotting\",\n",
    "                f\"{component_name}_eu_level.csv\",\n",
    "                )\n",
    "                merged_gdf = merge_polygon_point(component_name,  territorial_unit, country_tag)\n",
    "                number_of_stations = merged_gdf[\"value\"].sum()\n",
    "                merged_list.append(number_of_stations)\n",
    "                country_name_list.append(country_tag)\n",
    "                # plot = plotting(component_name, territorial_unit, country_tag)\n",
    "        eu_merged = pd.DataFrame(list(zip(country_name_list, merged_list)), columns=[\"country_tag\", f\"{component_name} value\"])\n",
    "        print(eu_merged.head())\n",
    "        eu_merged.to_csv(destination_path)\n",
    "# merge_polygon_point(component_name,  territorial_unit, country_tag).head(10)"
   ]
  },
  {
   "cell_type": "code",
   "execution_count": null,
   "metadata": {},
   "outputs": [],
   "source": [
    "eu_merged.head(27)"
   ]
  },
  {
   "cell_type": "code",
   "execution_count": null,
   "metadata": {},
   "outputs": [],
   "source": [
    "source_path = os.path.join(\n",
    "                PROCESSED_DATA_PATH,\n",
    "                \"osm_data\",\n",
    "                \"countries\",\n",
    "                \"plotting\",\n",
    "                \"fuel_stations_eu_level.csv\"\n",
    "                )\n",
    "fuel_stations_df = pd.read_csv(source_path, converters={\"fuel_stations value\": str})"
   ]
  },
  {
   "cell_type": "code",
   "execution_count": null,
   "metadata": {},
   "outputs": [],
   "source": [
    "source_path = os.path.join(\n",
    "                PROCESSED_DATA_PATH,\n",
    "                \"osm_data\",\n",
    "                \"countries\",\n",
    "                \"plotting\",\n",
    "                \"charging_stations_eu_level.csv\"\n",
    "                )\n",
    "charging_stations_df = pd.read_csv(source_path, converters={\"charging_stations value\": str})"
   ]
  },
  {
   "cell_type": "code",
   "execution_count": null,
   "metadata": {},
   "outputs": [],
   "source": [
    "fuel_stations_df.head()"
   ]
  },
  {
   "cell_type": "code",
   "execution_count": null,
   "metadata": {},
   "outputs": [],
   "source": [
    "charging_stations_df.head()"
   ]
  },
  {
   "cell_type": "code",
   "execution_count": null,
   "metadata": {},
   "outputs": [],
   "source": [
    "fuel_stations_df['charging_stations value'] = charging_stations_df['charging_stations value']"
   ]
  },
  {
   "cell_type": "code",
   "execution_count": null,
   "metadata": {},
   "outputs": [],
   "source": [
    "# plotdata = pd.DataFrame({\n",
    "#     \"fuel_stations value\":[fuel_stations_df['fuel_stations value']],\n",
    "#     \"charging_stations\":[charging_stations_df['charging_stations value']],\n",
    "#     }, \n",
    "#     index=[fuel_stations_df['country_tag']]\n",
    "# )"
   ]
  },
  {
   "cell_type": "code",
   "execution_count": null,
   "metadata": {},
   "outputs": [],
   "source": [
    "fuel_stations_df.head()"
   ]
  },
  {
   "cell_type": "code",
   "execution_count": null,
   "metadata": {},
   "outputs": [],
   "source": [
    "type(fuel_stations_df['charging_stations value'][0])"
   ]
  },
  {
   "cell_type": "code",
   "execution_count": null,
   "metadata": {},
   "outputs": [],
   "source": [
    "type(fuel_stations_df['value'][0])"
   ]
  },
  {
   "cell_type": "code",
   "execution_count": null,
   "metadata": {},
   "outputs": [],
   "source": [
    "fuel_stations_df['charging_stations value'] = fuel_stations_df['charging_stations value'].astype('float64')"
   ]
  },
  {
   "cell_type": "code",
   "execution_count": null,
   "metadata": {},
   "outputs": [],
   "source": [
    "fuel_stations_df.rename(columns = {'value':'fuel_stations'}, inplace = True)\n",
    "fuel_stations_df.rename(columns = {'charging_stations value':'charging_stations'}, inplace = True)\n",
    "fuel_stations_df.drop(\n",
    "        [col for col in fuel_stations_df.columns if \"country_tag\" not in col and \"fuel_stations\" not in col and \"charging_stations\" not in col],\n",
    "        axis=1,\n",
    "        inplace=True,\n",
    "    )\n",
    "fuel_stations_df = fuel_stations_df.set_index('country_tag')"
   ]
  },
  {
   "cell_type": "code",
   "execution_count": null,
   "metadata": {},
   "outputs": [],
   "source": [
    "fuel_stations_df.head()"
   ]
  },
  {
   "cell_type": "code",
   "execution_count": null,
   "metadata": {},
   "outputs": [],
   "source": [
    "plotdata = fuel_stations_df"
   ]
  },
  {
   "cell_type": "code",
   "execution_count": null,
   "metadata": {},
   "outputs": [],
   "source": [
    "plotdata = plotdata.sort_values('fuel_stations', ascending=False)\n",
    "plotdata.plot.bar(rot=0, figsize =(8, 6))\n",
    "plt.title(\"Fuel Stations & Charging Stations - OSM data\")\n",
    "plt.xlabel(\"countries\")\n",
    "plt.ylabel(\"# of stations\")"
   ]
  },
  {
   "cell_type": "code",
   "execution_count": null,
   "metadata": {},
   "outputs": [],
   "source": [
    "source_path = os.path.join(\n",
    "                PROCESSED_DATA_PATH,\n",
    "                \"osm_data\",\n",
    "                \"countries\",\n",
    "                \"plotting\",\n",
    "                \"bus_stations_eu_level.csv\"\n",
    "                )\n",
    "bus_stations_df = pd.read_csv(source_path, converters={\"bus_stations value\": str})"
   ]
  },
  {
   "cell_type": "code",
   "execution_count": null,
   "metadata": {},
   "outputs": [],
   "source": [
    "bus_stations_df['bus_stations value'] = bus_stations_df['bus_stations value'].astype('float64')"
   ]
  },
  {
   "cell_type": "code",
   "execution_count": null,
   "metadata": {},
   "outputs": [],
   "source": [
    "bus_stations_df.rename(columns = {'bus_stations value':'bus_stations'}, inplace = True)\n",
    "bus_stations_df.drop(\n",
    "        [col for col in bus_stations_df.columns if \"country_tag\" not in col and \"bus_stations\" not in col],\n",
    "        axis=1,\n",
    "        inplace=True,\n",
    "    )\n",
    "bus_stations_df = bus_stations_df.set_index('country_tag')"
   ]
  },
  {
   "cell_type": "code",
   "execution_count": null,
   "metadata": {},
   "outputs": [],
   "source": [
    "bus_stations_df.head(27)"
   ]
  },
  {
   "cell_type": "code",
   "execution_count": null,
   "metadata": {},
   "outputs": [],
   "source": [
    "plotdata = bus_stations_df.sort_values('bus_stations', ascending=False)\n",
    "plotdata.plot.bar(rot=0, figsize =(8, 6))\n",
    "plt.title(\"bus_stations - OSM data\")\n",
    "plt.xlabel(\"countries\")\n",
    "plt.ylabel(\"# of stations\")"
   ]
  },
  {
   "cell_type": "code",
   "execution_count": null,
   "metadata": {},
   "outputs": [],
   "source": [
    "source_path = os.path.join(\n",
    "                PROCESSED_DATA_PATH,\n",
    "                \"osm_data\",\n",
    "                \"countries\",\n",
    "                \"plotting\",\n",
    "                \"airport_stations_eu_level.csv\"\n",
    "                )\n",
    "airport_stations_df = pd.read_csv(source_path, converters={\"airport_stations value\": str})"
   ]
  },
  {
   "cell_type": "code",
   "execution_count": null,
   "metadata": {},
   "outputs": [],
   "source": [
    "airport_stations_df['airport_stations value'] = airport_stations_df['airport_stations value'].astype('float64')"
   ]
  },
  {
   "cell_type": "code",
   "execution_count": null,
   "metadata": {},
   "outputs": [],
   "source": [
    "airport_stations_df.rename(columns = {'airport_stations value':'airport_stations'}, inplace = True)\n",
    "airport_stations_df.drop(\n",
    "        [col for col in airport_stations_df.columns if \"country_tag\" not in col and \"airport_stations\" not in col],\n",
    "        axis=1,\n",
    "        inplace=True,\n",
    "    )\n",
    "airport_stations_df = airport_stations_df.set_index('country_tag')"
   ]
  },
  {
   "cell_type": "code",
   "execution_count": null,
   "metadata": {},
   "outputs": [],
   "source": [
    "airport_stations_df.head(27)"
   ]
  },
  {
   "cell_type": "code",
   "execution_count": null,
   "metadata": {},
   "outputs": [],
   "source": [
    "plotdata = airport_stations_df.sort_values('airport_stations', ascending=False)\n",
    "plotdata.plot.bar(rot=0, figsize =(8, 6))\n",
    "plt.title(\"airport_stations - OSM data\")\n",
    "plt.xlabel(\"countries\")\n",
    "plt.ylabel(\"# of stations\")"
   ]
  },
  {
   "cell_type": "code",
   "execution_count": null,
   "metadata": {},
   "outputs": [],
   "source": [
    "# # https://www.geeksforgeeks.org/plotting-geospatial-data-using-geopandas/\n",
    " \n",
    "# fig, ax = plt.subplots(1, figsize =(16, 12),\n",
    "#                        facecolor ='lightblue')\n",
    "  \n",
    "# merged_gdf.plot(ax = ax, color ='black')\n",
    "# merged_gdf.plot(ax = ax, column ='value', cmap ='Reds',\n",
    "#            edgecolors ='grey')\n",
    "  \n",
    "# # axis for the color bar\n",
    "# div = make_axes_locatable(ax)\n",
    "# cax = div.append_axes(\"right\", size =\"3 %\", pad = 0.05)\n",
    "  \n",
    "# # color bar\n",
    "# vmax = merged_gdf.value.max()\n",
    "# mappable = plt.cm.ScalarMappable(cmap ='Reds',\n",
    "#                                  norm = plt.Normalize(vmin = 0, vmax = vmax))\n",
    "# cbar = fig.colorbar(mappable, cax)\n",
    " \n",
    "# plt.title(f\"Fuel Stations - Germany - LAU level\", loc='right', fontweight='bold')  \n",
    "# ax.axis('off')\n",
    "# plt.show()"
   ]
  },
  {
   "cell_type": "code",
   "execution_count": null,
   "metadata": {},
   "outputs": [],
   "source": [
    "# for component_name in stations_tags_dict.keys():\n",
    "#         print(component_name)\n",
    "#         for country_name, country_tag in countries_dict.items():\n",
    "#                 point_df_path_source = os.path.join(PROCESSED_DATA_PATH, 'osm_data', \n",
    "#                                         'countries', f'{country_tag}',\n",
    "#                                         f\"{component_name}_{country_tag}_from_place.csv\")\n",
    "#                 if os.path.exists(point_df_path_source): \n",
    "#                         # point_gdf = setupPointGdf(component_name, territorial_unit)\n",
    "#                         # print(f\"The total number of stations in the EU27 are: \", len(point_gdf))\n",
    "#                         # print(point_gdf.sample(5))\n",
    "#                         # overlap_gdf = overlapPointandPolygon(component_name, territorial_unit)\n",
    "#                         # print(f\"The total number of {component_name} in the EU27 are: \", len(overlap_gdf))\n",
    "#                         # print(overlap_gdf.sample(5))\n",
    "#                         overlap_df = count_point_on_polygon(component_name, territorial_unit, country_name, country_tag)\n",
    "#                         print(f\"The number of \\\"{territorial_unit}\\\" regions mapped by \\\"{component_name}\\\" at \\\"{country_tag}\\\" are: \", len(overlap_df))\n",
    "#                         try:\n",
    "#                                 print(overlap_df.sample(5))\n",
    "#                         except:\n",
    "#                                 continue\n",
    "#                 else:\n",
    "#                         continue  "
   ]
  }
 ],
 "metadata": {
  "kernelspec": {
   "display_name": "Thesis",
   "language": "python",
   "name": "python3"
  },
  "language_info": {
   "codemirror_mode": {
    "name": "ipython",
    "version": 3
   },
   "file_extension": ".py",
   "mimetype": "text/x-python",
   "name": "python",
   "nbconvert_exporter": "python",
   "pygments_lexer": "ipython3",
   "version": "3.10.9 | packaged by conda-forge | (main, Jan 11 2023, 15:15:40) [MSC v.1916 64 bit (AMD64)]"
  },
  "vscode": {
   "interpreter": {
    "hash": "3cce2b1fd713457c708c12f138c5d9dc7fb720a2742758859ec4f2ed81771da0"
   }
  }
 },
 "nbformat": 4,
 "nbformat_minor": 2
}
