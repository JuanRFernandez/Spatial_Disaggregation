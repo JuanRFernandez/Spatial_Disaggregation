{
 "cells": [
  {
   "cell_type": "code",
   "execution_count": 5,
   "metadata": {},
   "outputs": [],
   "source": [
    "import os\n",
    "from zoomin.data.constants import countries_dict\n",
    "from zoomin.data.osmtags import networks_tags_dict\n",
    "from zoomin.data.osm_networks_processing import get_length_df, get_length_gdf_eu, get_length_df_eu\n",
    "import pandas as pd"
   ]
  },
  {
   "cell_type": "code",
   "execution_count": 6,
   "metadata": {},
   "outputs": [],
   "source": [
    "cwd = os.getcwd()\n",
    "DATA_PATH = os.path.join(cwd, '..', '..', '..', 'data', 'input')\n",
    "RAW_DATA_PATH = os.path.join(DATA_PATH, 'raw')\n",
    "PROCESSED_DATA_PATH = os.path.join(DATA_PATH, 'processed')"
   ]
  },
  {
   "cell_type": "code",
   "execution_count": 7,
   "metadata": {},
   "outputs": [],
   "source": [
    "territorial_unit = input(\n",
    "        'Please enter a character from: LAU, NUTS3, NUTS2, NUTS1, NUTS0, Europe')"
   ]
  },
  {
   "cell_type": "code",
   "execution_count": null,
   "metadata": {},
   "outputs": [],
   "source": [
    "for component_name in networks_tags_dict.keys():\n",
    "        print(component_name)\n",
    "        for country_tag in countries_dict.values():\n",
    "                print(country_tag)\n",
    "                linestring_df_path_source = os.path.join(PROCESSED_DATA_PATH, 'osm_data', \n",
    "                                        'countries', f'{country_tag}',\n",
    "                                        f\"{component_name}_{country_tag}_from_place.csv\")\n",
    "                if os.path.exists(linestring_df_path_source):\n",
    "                        print(f\"The \\\"{component_name}_{country_tag}_from_place.csv\\\" file for \\\"{country_tag}\\\" \\\n",
    "EXISTS and the network is measured or read it\")\n",
    "                        if __name__ == \"__main__\":\n",
    "                                overlap_df = get_length_df(territorial_unit, component_name, country_tag)\n",
    "                                print(len(overlap_df))\n",
    "                                print(overlap_df.sample(7))\n",
    "                                # if __name__ == \"__main__\":    \n",
    "                                #     overlap_gdf = getLength_gdf(territorial_unit, component_name, country_tag)\n",
    "                else:\n",
    "                        print(f\"The \\\"{component_name}_{country_tag}_from_place.csv\\\" file for \\\"{country_tag}\\\" DOES NOT \\\n",
    "exists so the loop continue for the next country\")\n",
    "                        continue"
   ]
  },
  {
   "cell_type": "code",
   "execution_count": null,
   "metadata": {},
   "outputs": [],
   "source": [
    "get_length_gdf_eu()"
   ]
  },
  {
   "cell_type": "code",
   "execution_count": 4,
   "metadata": {},
   "outputs": [
    {
     "name": "stdout",
     "output_type": "stream",
     "text": [
      "bicycle_network\n",
      "  region_code  bicycle_network_value\n",
      "0       93088                    0.0\n",
      "1       93010                    0.0\n",
      "bus_network\n",
      "  region_code  bus_network_value\n",
      "0       VID09                0.0\n",
      "1       VID01                0.0\n",
      "railways_network\n",
      "  region_code  bus_network_value\n",
      "0       VID09                0.0\n",
      "1       VID01                0.0\n",
      "road_major_network\n",
      "  region_code  road_major_network_value\n",
      "0       93088             119068.328943\n",
      "1       93010              66079.191557\n",
      "shipping_network\n",
      "  region_code  road_major_network_value\n",
      "0       93088             119068.328943\n",
      "1       93010              66079.191557\n"
     ]
    },
    {
     "data": {
      "text/html": [
       "<div>\n",
       "<style scoped>\n",
       "    .dataframe tbody tr th:only-of-type {\n",
       "        vertical-align: middle;\n",
       "    }\n",
       "\n",
       "    .dataframe tbody tr th {\n",
       "        vertical-align: top;\n",
       "    }\n",
       "\n",
       "    .dataframe thead th {\n",
       "        text-align: right;\n",
       "    }\n",
       "</style>\n",
       "<table border=\"1\" class=\"dataframe\">\n",
       "  <thead>\n",
       "    <tr style=\"text-align: right;\">\n",
       "      <th></th>\n",
       "      <th>region_code</th>\n",
       "      <th>road_major_network_value</th>\n",
       "    </tr>\n",
       "  </thead>\n",
       "  <tbody>\n",
       "    <tr>\n",
       "      <th>0</th>\n",
       "      <td>93088</td>\n",
       "      <td>119068.328943</td>\n",
       "    </tr>\n",
       "    <tr>\n",
       "      <th>1</th>\n",
       "      <td>93010</td>\n",
       "      <td>66079.191557</td>\n",
       "    </tr>\n",
       "    <tr>\n",
       "      <th>2</th>\n",
       "      <td>93014</td>\n",
       "      <td>164447.783351</td>\n",
       "    </tr>\n",
       "    <tr>\n",
       "      <th>3</th>\n",
       "      <td>93018</td>\n",
       "      <td>54194.225967</td>\n",
       "    </tr>\n",
       "    <tr>\n",
       "      <th>4</th>\n",
       "      <td>93022</td>\n",
       "      <td>78984.098695</td>\n",
       "    </tr>\n",
       "    <tr>\n",
       "      <th>...</th>\n",
       "      <td>...</td>\n",
       "      <td>...</td>\n",
       "    </tr>\n",
       "    <tr>\n",
       "      <th>93478</th>\n",
       "      <td>880200</td>\n",
       "      <td>769474.460071</td>\n",
       "    </tr>\n",
       "    <tr>\n",
       "      <th>93479</th>\n",
       "      <td>885100</td>\n",
       "      <td>267734.417349</td>\n",
       "    </tr>\n",
       "    <tr>\n",
       "      <th>93480</th>\n",
       "      <td>887600</td>\n",
       "      <td>24458.446898</td>\n",
       "    </tr>\n",
       "    <tr>\n",
       "      <th>93481</th>\n",
       "      <td>888301</td>\n",
       "      <td>70687.589676</td>\n",
       "    </tr>\n",
       "    <tr>\n",
       "      <th>93482</th>\n",
       "      <td>980200</td>\n",
       "      <td>685246.123018</td>\n",
       "    </tr>\n",
       "  </tbody>\n",
       "</table>\n",
       "<p>93483 rows × 2 columns</p>\n",
       "</div>"
      ],
      "text/plain": [
       "      region_code  road_major_network_value\n",
       "0           93088             119068.328943\n",
       "1           93010              66079.191557\n",
       "2           93014             164447.783351\n",
       "3           93018              54194.225967\n",
       "4           93022              78984.098695\n",
       "...           ...                       ...\n",
       "93478      880200             769474.460071\n",
       "93479      885100             267734.417349\n",
       "93480      887600              24458.446898\n",
       "93481      888301              70687.589676\n",
       "93482      980200             685246.123018\n",
       "\n",
       "[93483 rows x 2 columns]"
      ]
     },
     "execution_count": 4,
     "metadata": {},
     "output_type": "execute_result"
    }
   ],
   "source": [
    "get_length_df_eu()"
   ]
  },
  {
   "cell_type": "code",
   "execution_count": 8,
   "metadata": {},
   "outputs": [
    {
     "name": "stdout",
     "output_type": "stream",
     "text": [
      "bicycle_network\n",
      "The total number of \"LAU\" regions mapped for bicycle_network in the EU27 are:  54067\n",
      "bus_network\n",
      "The total number of \"LAU\" regions mapped for bus_network in the EU27 are:  23886\n",
      "railways_network\n",
      "The total number of \"LAU\" regions mapped for railways_network in the EU27 are:  95346\n",
      "road_major_network\n",
      "The total number of \"LAU\" regions mapped for road_major_network in the EU27 are:  93483\n",
      "shipping_network\n",
      "The total number of \"LAU\" regions mapped for shipping_network in the EU27 are:  49516\n"
     ]
    }
   ],
   "source": [
    "for component_name in networks_tags_dict.keys():\n",
    "        print(component_name)\n",
    "        overlap_df_path_destination = os.path.join(\n",
    "            PROCESSED_DATA_PATH,\n",
    "            \"osm_data\",\n",
    "            \"countries\",\n",
    "            \"networks_overlap_df_data\",\n",
    "            f\"{component_name}_overlap_df_{territorial_unit}.csv\",\n",
    "        )\n",
    "        if os.path.exists(overlap_df_path_destination):\n",
    "                overlap_df = pd.read_csv(overlap_df_path_destination)\n",
    "                overlap_df.rename(columns={\"value\": f\"{component_name}_value\"}, inplace=True)\n",
    "                overlap_df.drop(\n",
    "                    [\n",
    "                        col\n",
    "                        for col in overlap_df.columns\n",
    "                        if \"region_code\" not in col and f\"{component_name}_value\" not in col\n",
    "                    ],\n",
    "                    axis=1,\n",
    "                    inplace=True,\n",
    "                )\n",
    "                print(f'The total number of \"{territorial_unit}\" regions mapped for {component_name} in the EU27 are: ',\n",
    "                len(overlap_df))\n",
    "                overlap_df.to_csv(overlap_df_path_destination, index=False)"
   ]
  }
 ],
 "metadata": {
  "kernelspec": {
   "display_name": "Thesis",
   "language": "python",
   "name": "python3"
  },
  "language_info": {
   "codemirror_mode": {
    "name": "ipython",
    "version": 3
   },
   "file_extension": ".py",
   "mimetype": "text/x-python",
   "name": "python",
   "nbconvert_exporter": "python",
   "pygments_lexer": "ipython3",
   "version": "3.10.9"
  },
  "vscode": {
   "interpreter": {
    "hash": "3cce2b1fd713457c708c12f138c5d9dc7fb720a2742758859ec4f2ed81771da0"
   }
  }
 },
 "nbformat": 4,
 "nbformat_minor": 2
}
