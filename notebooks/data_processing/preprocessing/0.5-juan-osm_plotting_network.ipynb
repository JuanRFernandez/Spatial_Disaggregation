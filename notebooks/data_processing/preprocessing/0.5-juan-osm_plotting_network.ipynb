{
 "cells": [
  {
   "cell_type": "code",
   "execution_count": null,
   "metadata": {},
   "outputs": [],
   "source": [
    "from zoomin.data.osmtags import networks_tags_dict\n",
    "from zoomin.data.constants import countries_dict\n",
    "from zoomin.data import osm_stations_processing\n",
    "from typing import Any\n",
    "from shapely import wkt\n",
    "from zoomin.data.osm_stations_processing import count_point_on_polygon, count_point_on_polygon_eu\n",
    "import os\n",
    "import pandas as pd\n",
    "import geopandas as gpd\n",
    "import osmnx as ox\n",
    "import plotly.express as px\n",
    "import matplotlib.pyplot as plt\n",
    "from mpl_toolkits.axes_grid1 import make_axes_locatable"
   ]
  },
  {
   "cell_type": "code",
   "execution_count": null,
   "metadata": {},
   "outputs": [],
   "source": [
    "cwd = os.getcwd()\n",
    "DATA_PATH = os.path.join(cwd, '..', '..', '..', 'data', 'input')\n",
    "RAW_DATA_PATH = os.path.join(DATA_PATH, 'raw')\n",
    "PROCESSED_DATA_PATH = os.path.join(DATA_PATH, 'processed')"
   ]
  },
  {
   "cell_type": "code",
   "execution_count": null,
   "metadata": {},
   "outputs": [],
   "source": [
    "def setup_polygon_for_point(territorial_unit: Any, country_tag: str) -> gpd.GeoDataFrame:\n",
    "    \"\"\"Get polygons geodataframe for each country at a territoriial unit.\"\"\"\n",
    "    polygon_shp_path = os.path.join(\n",
    "        PROCESSED_DATA_PATH, \"shapefiles\", f\"{territorial_unit}.shp\"\n",
    "    )\n",
    "    polygon_gdf = gpd.read_file(polygon_shp_path, converters={'region_code': str})\n",
    "    polygon_gdf = polygon_gdf[polygon_gdf[\"prnt_code\"].str.contains(f\"{country_tag}\")]\n",
    "    polygon_gdf.drop(\n",
    "        [\n",
    "            col\n",
    "            for col in polygon_gdf.columns\n",
    "            if \"geometry\" not in col and \"code\" not in col\n",
    "        ],\n",
    "        axis=1,\n",
    "        inplace=True,\n",
    "    )\n",
    "    polygon_gdf.drop(\n",
    "        [col for col in polygon_gdf.columns if col.startswith(\"prnt\")],\n",
    "        axis=1,\n",
    "        inplace=True,\n",
    "    )\n",
    "    polygon_gdf.rename(columns={\"code\": \"region_code\"}, inplace=True)\n",
    "    polygon_gdf.reset_index(drop=True, inplace=True)\n",
    "    print(f\"The number of polygon at LAU level for {country_tag} are: \", len(polygon_gdf))\n",
    "    return polygon_gdf"
   ]
  },
  {
   "cell_type": "code",
   "execution_count": null,
   "metadata": {},
   "outputs": [],
   "source": [
    "def get_line(component_name: str, territorial_unit: Any, country_tag: str) -> pd.DataFrame:\n",
    "    \n",
    "    \"\"\"Get point geodataframe for each component_name in each country at a territoriial unit.\"\"\"\n",
    "    line_df_path_source = os.path.join(\n",
    "        PROCESSED_DATA_PATH,\n",
    "        \"osm_data\",\n",
    "        \"countries\",\n",
    "        f\"{country_tag}\",\n",
    "        f\"{component_name}_overlap_df_{country_tag}_{territorial_unit}.csv\", \n",
    "    )\n",
    "    if os.path.exists(line_df_path_source):\n",
    "        line_df = pd.read_csv(line_df_path_source, converters={'region_code': str})\n",
    "        line_df.drop(\n",
    "        [\n",
    "            col\n",
    "            for col in line_df.columns\n",
    "            if \"region_code\" not in col and \"value\" not in col\n",
    "        ],\n",
    "        axis=1,\n",
    "        inplace=True,\n",
    "    )\n",
    "    return line_df\n",
    "    "
   ]
  },
  {
   "cell_type": "code",
   "execution_count": null,
   "metadata": {},
   "outputs": [],
   "source": [
    "def merge_polygon_line(component_name,  territorial_unit, country_tag):\n",
    "    \n",
    "    \"\"\"Overlap gridded data with polygon data.\"\"\"\n",
    "    overlap_gdf_path_destination = os.path.join(\n",
    "        PROCESSED_DATA_PATH,\n",
    "        \"osm_data\",\n",
    "        \"countries\",\n",
    "        f\"{country_tag}\",\n",
    "        f\"{component_name}_MergedGdf_{territorial_unit}.csv\",\n",
    "    )\n",
    "    if not os.path.exists(overlap_gdf_path_destination):\n",
    "        polygon_gdf = setup_polygon_for_point(territorial_unit, country_tag)\n",
    "        # if polygon_gdf.crs != 4326:\n",
    "        #         polygon_gdf = polygon_gdf.to_crs(epsg=4326)\n",
    "        line_df = get_line(component_name, territorial_unit, country_tag)\n",
    "        # joining the geodataframe with the cleaned up csv dataframe\n",
    "        merged_gdf = polygon_gdf.set_index('region_code').join(line_df.set_index('region_code'))\n",
    "        print(\n",
    "            f'The total number of \"{component_name}\" merged networks in \"{country_tag}\" are: ',\n",
    "            len(merged_gdf),\n",
    "        )\n",
    "        # replace nan values woth zero\n",
    "        # merged_gdf[\"value\"] = merged_gdf[\"value\"].fillna(0)\n",
    "        #.head() returns the top 5(by default ) lines of the dataframe\n",
    "        # merged_gdf.to_csv(overlap_gdf_path_destination)\n",
    "        merged_gdf.sample(5)\n",
    "    else:\n",
    "        merged_df = pd.read_csv(overlap_gdf_path_destination, converters={'region_code': str})\n",
    "        merged_df[\"geometry\"] = gpd.GeoSeries.from_wkt(merged_df[\"geometry\"])\n",
    "        merged_gdf = gpd.GeoDataFrame(merged_df, geometry=\"geometry\")\n",
    "    return merged_gdf\n",
    "    "
   ]
  },
  {
   "cell_type": "code",
   "execution_count": null,
   "metadata": {},
   "outputs": [],
   "source": [
    "def heat_map_plotting(component_name, territorial_unit, country_tag):\n",
    "    \n",
    "    # https://www.geeksforgeeks.org/plotting-geospatial-data-using-geopandas/\n",
    "    merged_gdf = merge_polygon_line(component_name,  territorial_unit, country_tag)\n",
    "    fig, ax = plt.subplots(1, figsize =(16, 12),\n",
    "                        facecolor ='lightblue')\n",
    "    \n",
    "    merged_gdf.plot(ax = ax, color ='black')\n",
    "    merged_gdf.plot(ax = ax, column ='value', cmap ='Purples',\n",
    "            edgecolors ='grey')\n",
    "    \n",
    "    # axis for the color bar\n",
    "    div = make_axes_locatable(ax)\n",
    "    cax = div.append_axes(\"right\", size =\"2 %\", pad = 0.05)\n",
    "    \n",
    "    # color bar\n",
    "    vmax = merged_gdf.value.max()\n",
    "    mappable = plt.cm.ScalarMappable(cmap ='Purples',\n",
    "                                    norm = plt.Normalize(vmin = 0, vmax = vmax))\n",
    "    cbar = fig.colorbar(mappable, cax)\n",
    "    \n",
    "    plt.title(f\"{component_name} - {country_tag} - {territorial_unit} level\", loc='center', fontweight='bold')  \n",
    "    ax.axis('off')\n",
    "    return plt.show()"
   ]
  },
  {
   "cell_type": "code",
   "execution_count": null,
   "metadata": {},
   "outputs": [],
   "source": [
    "territorial_unit = input(\n",
    "        'Please enter a character from: LAU, NUTS3, NUTS2, NUTS1, NUTS0, Europe')"
   ]
  },
  {
   "cell_type": "code",
   "execution_count": null,
   "metadata": {},
   "outputs": [],
   "source": [
    "# for component_name in stations_tags_dict.keys():\n",
    "#         print(component_name)\n",
    "#         country_name_list = []\n",
    "#         merged_list = []\n",
    "#         for country_name, country_tag in countries_dict.items():\n",
    "#             point_df_path_source = os.path.join(\n",
    "#                 PROCESSED_DATA_PATH,\n",
    "#                 \"osm_data\",\n",
    "#                 \"countries\",\n",
    "#                 f\"{country_tag}\",\n",
    "#                 f\"{component_name}_OverlapDf_{territorial_unit}.csv\",\n",
    "#             )\n",
    "#             if os.path.exists(point_df_path_source):\n",
    "#                 # destination_path = os.path.join(\n",
    "#                 # PROCESSED_DATA_PATH,\n",
    "#                 # \"osm_data\",\n",
    "#                 # \"countries\",\n",
    "#                 # \"plotting\",\n",
    "#                 # f\"{component_name}_eu_level.csv\",\n",
    "#                 # )\n",
    "#                 # merged_gdf = merge_polygon_point(component_name,  territorial_unit, country_tag)\n",
    "#                 # number_of_stations = merged_gdf[\"value\"].sum()\n",
    "#                 # merged_list.append(number_of_stations)\n",
    "#                 # country_name_list.append(country_tag)\n",
    "#                 plot = heat_map_plotting(component_name, territorial_unit, country_tag)\n",
    "#         # eu_merged = pd.DataFrame(list(zip(country_name_list, merged_list)), columns=[\"country_tag\", f\"{component_name} value\"])\n",
    "#         # print(eu_merged.head())\n",
    "#         # eu_merged.to_csv(destination_path)\n",
    "# # merge_polygon_point(component_name,  territorial_unit, country_tag).head(10)"
   ]
  },
  {
   "cell_type": "code",
   "execution_count": null,
   "metadata": {},
   "outputs": [],
   "source": [
    "for component_name in networks_tags_dict.keys():\n",
    "        print(component_name)\n",
    "        country_name_list = []\n",
    "        merged_list = []\n",
    "        for country_name, country_tag in countries_dict.items():\n",
    "                line_df_path_source = os.path.join(\n",
    "                        PROCESSED_DATA_PATH,\n",
    "                        \"osm_data\",\n",
    "                        \"countries\",\n",
    "                        f\"{country_tag}\",\n",
    "                        f\"{component_name}_overlap_df_{country_tag}_{territorial_unit}.csv\", \n",
    "                )\n",
    "                if os.path.exists(line_df_path_source):\n",
    "                        # get_line_df = get_line(component_name, territorial_unit, country_tag)\n",
    "                        destination_path = os.path.join(\n",
    "                        PROCESSED_DATA_PATH,\n",
    "                        \"osm_data\",\n",
    "                        \"countries\",\n",
    "                        \"plotting\",\n",
    "                        f\"{component_name}_eu_level.csv\",\n",
    "                        )\n",
    "                        merged_gdf = merge_polygon_line(component_name,  territorial_unit, country_tag)\n",
    "                        merged_gdf.head()\n",
    "                        number_of_stations = merged_gdf[\"value\"].sum()\n",
    "                        merged_list.append(number_of_stations)\n",
    "                        country_name_list.append(country_tag)\n",
    "                        # plot = heat_map_plotting(component_name, territorial_unit, country_tag)\n",
    "        eu_merged = pd.DataFrame(list(zip(country_name_list, merged_list)), columns=[\"country_tag\", f\"{component_name} value\"])\n",
    "        print(eu_merged.head())\n",
    "        eu_merged.to_csv(destination_path)\n",
    "# merge_polygon_point(component_name,  territorial_unit, country_tag).head(10)"
   ]
  },
  {
   "cell_type": "code",
   "execution_count": null,
   "metadata": {},
   "outputs": [],
   "source": [
    "source_path = os.path.join(\n",
    "                PROCESSED_DATA_PATH,\n",
    "                \"osm_data\",\n",
    "                \"countries\",\n",
    "                \"plotting\",\n",
    "                \"road_major_network_eu_level.csv\"\n",
    "                )\n",
    "road_major_network_df = pd.read_csv(source_path, converters={\"road_major_network value\": str})"
   ]
  },
  {
   "cell_type": "code",
   "execution_count": null,
   "metadata": {},
   "outputs": [],
   "source": [
    "road_major_network_df['road_major_network value'] = road_major_network_df['road_major_network value'].astype('float64')"
   ]
  },
  {
   "cell_type": "code",
   "execution_count": null,
   "metadata": {},
   "outputs": [],
   "source": [
    "road_major_network_df.rename(columns = {'road_major_network value':'road_major_network'}, inplace = True)\n",
    "road_major_network_df.drop(\n",
    "        [col for col in road_major_network_df.columns if \"country_tag\" not in col and \"road_major_network\" not in col],\n",
    "        axis=1,\n",
    "        inplace=True,\n",
    "    )\n",
    "road_major_network_df = road_major_network_df.set_index('country_tag')"
   ]
  },
  {
   "cell_type": "code",
   "execution_count": null,
   "metadata": {},
   "outputs": [],
   "source": [
    "road_major_network_df.head(27)"
   ]
  },
  {
   "cell_type": "code",
   "execution_count": null,
   "metadata": {},
   "outputs": [],
   "source": [
    "road_major_network_df = road_major_network_df.sort_values('road_major_network', ascending=False)\n",
    "road_major_network_df.plot.bar(rot=0, figsize =(8, 6))\n",
    "plt.title(\"Major Raods Network - OSM data\")\n",
    "plt.xlabel(\"countries\")\n",
    "plt.ylabel(\"Meters of Road\")"
   ]
  },
  {
   "cell_type": "code",
   "execution_count": null,
   "metadata": {},
   "outputs": [],
   "source": [
    "source_path = os.path.join(\n",
    "                PROCESSED_DATA_PATH,\n",
    "                \"osm_data\",\n",
    "                \"countries\",\n",
    "                \"plotting\",\n",
    "                \"bicycle_network_eu_level.csv\"\n",
    "                )\n",
    "bicycle_network_df = pd.read_csv(source_path, converters={\"bicycle_network value\": str})"
   ]
  },
  {
   "cell_type": "code",
   "execution_count": null,
   "metadata": {},
   "outputs": [],
   "source": [
    "bicycle_network_df['bicycle_network value'] = bicycle_network_df['bicycle_network value'].astype('float64')"
   ]
  },
  {
   "cell_type": "code",
   "execution_count": null,
   "metadata": {},
   "outputs": [],
   "source": [
    "bicycle_network_df.rename(columns = {'bicycle_network value':'bicycle_network'}, inplace = True)\n",
    "bicycle_network_df.drop(\n",
    "        [col for col in bicycle_network_df.columns if \"country_tag\" not in col and \"bicycle_network\" not in col],\n",
    "        axis=1,\n",
    "        inplace=True,\n",
    "    )\n",
    "bicycle_network_df = bicycle_network_df.set_index('country_tag')"
   ]
  },
  {
   "cell_type": "code",
   "execution_count": null,
   "metadata": {},
   "outputs": [],
   "source": [
    "bicycle_network_df.head(27)"
   ]
  },
  {
   "cell_type": "code",
   "execution_count": null,
   "metadata": {},
   "outputs": [],
   "source": [
    "bicycle_network_df = bicycle_network_df.sort_values('bicycle_network', ascending=False)\n",
    "bicycle_network_df.plot.bar(rot=0, figsize =(8, 6))\n",
    "plt.title(\"Bicycle Network - OSM data\")\n",
    "plt.xlabel(\"countries\")\n",
    "plt.ylabel(\"Meters of bicycle road\")"
   ]
  },
  {
   "cell_type": "code",
   "execution_count": null,
   "metadata": {},
   "outputs": [],
   "source": [
    "source_path = os.path.join(\n",
    "                PROCESSED_DATA_PATH,\n",
    "                \"osm_data\",\n",
    "                \"countries\",\n",
    "                \"plotting\",\n",
    "                \"railways_network_eu_level.csv\"\n",
    "                )\n",
    "railways_network_df = pd.read_csv(source_path, converters={\"railways_network value\": str})"
   ]
  },
  {
   "cell_type": "code",
   "execution_count": null,
   "metadata": {},
   "outputs": [],
   "source": [
    "railways_network_df['railways_network value'] = railways_network_df['railways_network value'].astype('float64')"
   ]
  },
  {
   "cell_type": "code",
   "execution_count": null,
   "metadata": {},
   "outputs": [],
   "source": [
    "railways_network_df.rename(columns = {'railways_network value':'railways_network'}, inplace = True)\n",
    "railways_network_df.drop(\n",
    "        [col for col in railways_network_df.columns if \"country_tag\" not in col and \"railways_network\" not in col],\n",
    "        axis=1,\n",
    "        inplace=True,\n",
    "    )\n",
    "railways_network_df = railways_network_df.set_index('country_tag')"
   ]
  },
  {
   "cell_type": "code",
   "execution_count": null,
   "metadata": {},
   "outputs": [],
   "source": [
    "railways_network_df.head(27)"
   ]
  },
  {
   "cell_type": "code",
   "execution_count": null,
   "metadata": {},
   "outputs": [],
   "source": [
    "railways_network_df = railways_network_df.sort_values('railways_network', ascending=False)\n",
    "railways_network_df.plot.bar(rot=0, figsize =(8, 6))\n",
    "plt.title(\"Railways Network - OSM data\")\n",
    "plt.xlabel(\"countries\")\n",
    "plt.ylabel(\"Meters of railways\")"
   ]
  }
 ],
 "metadata": {
  "kernelspec": {
   "display_name": "zoomin_dev_env",
   "language": "python",
   "name": "python3"
  },
  "language_info": {
   "name": "python",
   "version": "3.10.4 | packaged by conda-forge | (main, Mar 30 2022, 08:38:02) [MSC v.1916 64 bit (AMD64)]"
  },
  "vscode": {
   "interpreter": {
    "hash": "4939421f70428c03fe565beb7fa1a6cbc9631804da27983198693c9f26b7c5b9"
   }
  }
 },
 "nbformat": 4,
 "nbformat_minor": 2
}
