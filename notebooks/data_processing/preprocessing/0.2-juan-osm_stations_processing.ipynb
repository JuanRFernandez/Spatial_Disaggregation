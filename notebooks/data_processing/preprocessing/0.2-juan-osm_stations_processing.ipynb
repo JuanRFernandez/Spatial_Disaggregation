{
 "cells": [
  {
   "cell_type": "code",
   "execution_count": 1,
   "metadata": {},
   "outputs": [],
   "source": [
    "from zoomin.data.osmtags import stations_tags_dict\n",
    "from zoomin.data.constants import countries_dict\n",
    "from zoomin.data import osm_stations_processing\n",
    "from shapely import wkt\n",
    "from zoomin.data.osm_stations_processing import count_point_on_polygon, count_point_on_polygon_eu\n",
    "import os\n",
    "import pandas as pd\n",
    "import geopandas as gpd\n",
    "import osmnx as ox"
   ]
  },
  {
   "cell_type": "code",
   "execution_count": 2,
   "metadata": {},
   "outputs": [],
   "source": [
    "cwd = os.getcwd()\n",
    "DATA_PATH = os.path.join(cwd, '..', '..', '..', 'data', 'input')\n",
    "RAW_DATA_PATH = os.path.join(DATA_PATH, 'raw')\n",
    "PROCESSED_DATA_PATH = os.path.join(DATA_PATH, 'processed')"
   ]
  },
  {
   "cell_type": "code",
   "execution_count": 3,
   "metadata": {},
   "outputs": [],
   "source": [
    "territorial_unit = input(\n",
    "        'Please enter a character from: LAU, NUTS3, NUTS2, NUTS1, NUTS0, Europe')"
   ]
  },
  {
   "cell_type": "code",
   "execution_count": null,
   "metadata": {},
   "outputs": [],
   "source": [
    "for component_name in stations_tags_dict.keys():\n",
    "        print(component_name)\n",
    "        for country_name, country_tag in countries_dict.items():\n",
    "                point_df_path_source = os.path.join(PROCESSED_DATA_PATH, 'osm_data', \n",
    "                                        'countries', f'{country_tag}',\n",
    "                                        f\"{component_name}_{country_tag}_from_place.csv\")\n",
    "                if os.path.exists(point_df_path_source): \n",
    "                        # point_gdf = setupPointGdf(component_name, territorial_unit)\n",
    "                        # print(f\"The total number of stations in the EU27 are: \", len(point_gdf))\n",
    "                        # print(point_gdf.sample(5))\n",
    "                        # overlap_gdf = overlapPointandPolygon(component_name, territorial_unit)\n",
    "                        # print(f\"The total number of {component_name} in the EU27 are: \", len(overlap_gdf))\n",
    "                        # print(overlap_gdf.sample(5))\n",
    "                        overlap_df = count_point_on_polygon(component_name, territorial_unit, country_name, country_tag)\n",
    "                        print(f\"The number of \\\"{territorial_unit}\\\" regions mapped by \\\"{component_name}\\\" at \\\"{country_tag}\\\" are: \", len(overlap_df))\n",
    "                        try:\n",
    "                                print(overlap_df.sample(3))\n",
    "                        except:\n",
    "                                continue\n",
    "                else:\n",
    "                        continue        "
   ]
  },
  {
   "cell_type": "code",
   "execution_count": 4,
   "metadata": {},
   "outputs": [
    {
     "name": "stdout",
     "output_type": "stream",
     "text": [
      "fuel_stations\n",
      "The total number of \"NUTS3\" regions mapped in the EU27 are:  1183\n",
      "  region_code  fuel_stations_value\n",
      "0       BE211                  207\n",
      "1       BE241                  178\n",
      "2       BE221                  153\n",
      "charging_stations\n",
      "The total number of \"NUTS3\" regions mapped in the EU27 are:  1130\n",
      "  region_code  charging_stations_value\n",
      "0       BE213                      291\n",
      "1       BE211                      212\n",
      "2       BE234                      165\n",
      "bicycle_stations\n",
      "The total number of \"NUTS3\" regions mapped in the EU27 are:  900\n",
      "  region_code  bicycle_stations_value\n",
      "0       BE100                     362\n",
      "1       BE211                     325\n",
      "2       BE251                      32\n",
      "bus_stations\n",
      "The total number of \"NUTS3\" regions mapped in the EU27 are:  1182\n",
      "  region_code  bus_stations_value\n",
      "0       BE332                3919\n",
      "1       BE242                3734\n",
      "2       BE241                3316\n",
      "airport_stations\n",
      "The total number of \"NUTS3\" regions mapped in the EU27 are:  1040\n",
      "  region_code  airport_stations_value\n",
      "0       BE221                       5\n",
      "1       BE211                       4\n",
      "2       BE352                       3\n",
      "railway_station\n",
      "The total number of \"NUTS3\" regions mapped in the EU27 are:  1139\n",
      "  region_code  railway_station_value\n",
      "0       BE100                   1243\n",
      "1       BE211                    428\n",
      "2       BE241                    238\n",
      "train_station\n",
      "The total number of \"NUTS3\" regions mapped in the EU27 are:  1116\n",
      "  region_code  train_station_value\n",
      "0       BE100                   14\n",
      "1       BE241                   14\n",
      "2       BE231                   14\n",
      "subway_station\n",
      "The total number of \"NUTS3\" regions mapped in the EU27 are:  75\n",
      "  region_code  subway_station_value\n",
      "0       BE100                    60\n",
      "1       BE322                     4\n",
      "0       EL522                    32\n",
      "lightrail_station\n",
      "The total number of \"NUTS3\" regions mapped in the EU27 are:  125\n",
      "  region_code  lightrail_station_value\n",
      "0       BE322                       80\n",
      "1       BE326                       19\n",
      "0       PT170                      251\n",
      "shipping_station\n",
      "The total number of \"NUTS3\" regions mapped in the EU27 are:  652\n",
      "  region_code  shipping_station_value\n",
      "0       BE251                      14\n",
      "1       BE234                      14\n",
      "2       BE211                      13\n",
      "helicopter_station\n",
      "The total number of \"NUTS3\" regions mapped in the EU27 are:  1108\n",
      "  region_code  helicopter_station_value\n",
      "0       BE211                        20\n",
      "1       BE221                        17\n",
      "2       BE241                        15\n"
     ]
    }
   ],
   "source": [
    "for component_name in stations_tags_dict.keys():\n",
    "    print(component_name)\n",
    "    overlap_gdf = count_point_on_polygon_eu(component_name, territorial_unit)\n",
    "    print(overlap_gdf.head(3))\n",
    "    try:\n",
    "        print(overlap_df.sample(3))\n",
    "    except:\n",
    "        continue\n",
    "    else:\n",
    "        continue"
   ]
  },
  {
   "cell_type": "code",
   "execution_count": 4,
   "metadata": {},
   "outputs": [
    {
     "name": "stdout",
     "output_type": "stream",
     "text": [
      "fuel_stations\n",
      "the destination path exists\n",
      "The total number of \"LAU\" regions mapped for fuel_stations in the EU27 are:  31640\n",
      "charging_stations\n",
      "the destination path exists\n",
      "The total number of \"LAU\" regions mapped for charging_stations in the EU27 are:  14803\n",
      "bicycle_stations\n",
      "the destination path exists\n",
      "The total number of \"LAU\" regions mapped for bicycle_stations in the EU27 are:  3351\n",
      "bus_stations\n",
      "the destination path exists\n",
      "The total number of \"LAU\" regions mapped for bus_stations in the EU27 are:  51395\n",
      "airport_stations\n",
      "the destination path exists\n",
      "The total number of \"LAU\" regions mapped for airport_stations in the EU27 are:  4091\n",
      "railway_station\n",
      "the destination path exists\n",
      "The total number of \"LAU\" regions mapped for railway_station in the EU27 are:  18000\n",
      "train_station\n",
      "the destination path exists\n",
      "The total number of \"LAU\" regions mapped for train_station in the EU27 are:  10779\n",
      "subway_station\n",
      "the destination path exists\n",
      "The total number of \"LAU\" regions mapped for subway_station in the EU27 are:  280\n",
      "lightrail_station\n",
      "the destination path exists\n",
      "The total number of \"LAU\" regions mapped for lightrail_station in the EU27 are:  414\n",
      "shipping_station\n",
      "the destination path exists\n",
      "The total number of \"LAU\" regions mapped for shipping_station in the EU27 are:  1902\n",
      "helicopter_station\n",
      "the destination path exists\n",
      "The total number of \"LAU\" regions mapped for helicopter_station in the EU27 are:  6580\n"
     ]
    }
   ],
   "source": [
    "for component_name in stations_tags_dict.keys():\n",
    "        print(component_name)\n",
    "        overlap_df_path_destination = os.path.join(\n",
    "            PROCESSED_DATA_PATH,\n",
    "            \"osm_data\",\n",
    "            \"countries\",\n",
    "            \"stations_overlap_df_data\",\n",
    "            f\"{component_name}_OverlapDf_{territorial_unit}.csv\",\n",
    "        )\n",
    "        if os.path.exists(overlap_df_path_destination):\n",
    "                print('the destination path exists')\n",
    "                overlap_df = pd.read_csv(overlap_df_path_destination)\n",
    "                overlap_df.rename(columns={\"value\": f\"{component_name}_value\"}, inplace=True)\n",
    "                overlap_df.drop(\n",
    "                    [\n",
    "                        col\n",
    "                        for col in overlap_df.columns\n",
    "                        if \"region_code\" not in col and f\"{component_name}_value\" not in col\n",
    "                    ],\n",
    "                    axis=1,\n",
    "                    inplace=True,\n",
    "                )\n",
    "                print(f'The total number of \"{territorial_unit}\" regions mapped for {component_name} in the EU27 are: ',\n",
    "                len(overlap_df))\n",
    "                overlap_df.to_csv(overlap_df_path_destination, index=False)"
   ]
  },
  {
   "cell_type": "markdown",
   "metadata": {},
   "source": [
    "_________________________________________________________________________________________________________________\n",
    "\n",
    "# Code to check the shapely.geometry type"
   ]
  },
  {
   "cell_type": "code",
   "execution_count": null,
   "metadata": {},
   "outputs": [],
   "source": [
    "# import shapely\n",
    "# from shapely.geometry import Point, LineString, Polygon, MultiPoint, MultiLineString, MultiPolygon\n",
    "# Point_list = []\n",
    "# LineString_list = []\n",
    "# Polygon_list = []\n",
    "# MultiPoint_list = []\n",
    "# MultiLineString_list = []\n",
    "# MultiPolygon_list = []\n",
    "# other_type_list = []\n",
    "# for index, row in point_gdf.iterrows():\n",
    "#     if type(row['geometry']) == shapely.geometry.point.Point:\n",
    "#         Point_list.append(row['geometry'])\n",
    "#     elif type(row['geometry']) == shapely.geometry.linestring.LineString:\n",
    "#         LineString_list.append(row['geometry'])\n",
    "#     elif type(row['geometry']) == shapely.geometry.polygon.Polygon:\n",
    "#         Polygon_list.append(row['geometry'])\n",
    "#     # elif type(row['geometry']) == shapely.geometry.multiPoint.MultiPoint:\n",
    "#     #     MultiPoint_list.append(row['geometry'])\n",
    "#     # elif type(row['geometry']) == shapely.geometry.multiLineString.MultiLineString:\n",
    "#     #     MultiLineString_list.append(row['geometry'])\n",
    "#     elif type(row['geometry']) == shapely.geometry.multipolygon.MultiPolygon:\n",
    "#         MultiPolygon_list.append((row['geometry']))\n",
    "#     else:\n",
    "#         other_type_list.append(row['geometry'])\n",
    "# Point_list_df = pd.DataFrame({'geometry': Point_list})\n",
    "# LineString_list_df = pd.DataFrame({'geometry': LineString_list})\n",
    "# Polygon_list_df = pd.DataFrame({'geometry': Polygon_list})\n",
    "# MultiPoint_list_df = pd.DataFrame({'geometry': MultiPoint_list})\n",
    "# MultiLineString_list_df = pd.DataFrame({'geometry': MultiLineString_list})\n",
    "# MultiPolygon_df = pd.DataFrame({'geometry': MultiPolygon_list})\n",
    "# other_type_list_df = pd.DataFrame({'geometry': other_type_list})\n"
   ]
  },
  {
   "cell_type": "code",
   "execution_count": null,
   "metadata": {},
   "outputs": [],
   "source": [
    "# print('The length of Point_list is: ', len(Point_list))\n",
    "# print('The length of LineString_list is: ', len(LineString_list))\n",
    "# print('The length of Polygon_list is: ', len(Polygon_list))\n",
    "# # print('The length of MultiPoint_list is: ', len(MultiPoint_list))\n",
    "# # print('The length of MultiLineString_list is: ', len(MultiLineString_list))\n",
    "# print('The length of MultiPolygon_list is: ', len(MultiPolygon_list))\n",
    "# print('The length of other_type_list is: ', len(other_type_list))"
   ]
  }
 ],
 "metadata": {
  "kernelspec": {
   "display_name": "Thesis",
   "language": "python",
   "name": "python3"
  },
  "language_info": {
   "codemirror_mode": {
    "name": "ipython",
    "version": 3
   },
   "file_extension": ".py",
   "mimetype": "text/x-python",
   "name": "python",
   "nbconvert_exporter": "python",
   "pygments_lexer": "ipython3",
   "version": "3.10.9 | packaged by conda-forge | (main, Jan 11 2023, 15:15:40) [MSC v.1916 64 bit (AMD64)]"
  },
  "vscode": {
   "interpreter": {
    "hash": "3cce2b1fd713457c708c12f138c5d9dc7fb720a2742758859ec4f2ed81771da0"
   }
  }
 },
 "nbformat": 4,
 "nbformat_minor": 2
}
