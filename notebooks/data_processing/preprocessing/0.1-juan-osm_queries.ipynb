{
 "cells": [
  {
   "cell_type": "code",
   "execution_count": null,
   "metadata": {},
   "outputs": [],
   "source": [
    "from zoomin.data.constants import countries_dict\n",
    "from zoomin.data.osmtags import name_tags_dict\n",
    "\n",
    "from zoomin.data import osm_query_function\n",
    "from shapely import wkt\n",
    "from zoomin.data.osm_query_function import get_polygon_gdf, get_osm_data"
   ]
  },
  {
   "cell_type": "code",
   "execution_count": null,
   "metadata": {},
   "outputs": [],
   "source": [
    "territorial_unit = input(\n",
    "        'Please enter a character from: LAU, NUTS3, NUTS2, NUTS1, NUTS0, Europe')\n",
    "for country_tag in countries_dict.values():\n",
    "        print(country_tag)\n",
    "        data_gdf = get_osm_data(country_tag, territorial_unit)\n",
    "print(len(data_gdf))\n",
    "print(data_gdf.head(5))  "
   ]
  }
 ],
 "metadata": {
  "language_info": {
   "name": "python"
  }
 },
 "nbformat": 4,
 "nbformat_minor": 2
}
